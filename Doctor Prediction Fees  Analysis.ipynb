{
 "cells": [
  {
   "cell_type": "markdown",
   "id": "0fc94f13",
   "metadata": {},
   "source": [
    "#### Load Basic Libraries"
   ]
  },
  {
   "cell_type": "code",
   "execution_count": 1,
   "id": "aead5575",
   "metadata": {},
   "outputs": [],
   "source": [
    "import numpy as np\n",
    "import pandas as pd\n",
    "import seaborn as sns\n",
    "import matplotlib.pyplot as plt\n",
    "import sklearn \n",
    "import warnings\n",
    "warnings.filterwarnings('ignore')"
   ]
  },
  {
   "cell_type": "markdown",
   "id": "9fc0f5db",
   "metadata": {},
   "source": [
    "#### Load Data set Training and Testing"
   ]
  },
  {
   "cell_type": "code",
   "execution_count": 2,
   "id": "6a85ec77",
   "metadata": {},
   "outputs": [],
   "source": [
    "train_df = pd.read_csv('doc_fee_train.csv')"
   ]
  },
  {
   "cell_type": "code",
   "execution_count": 3,
   "id": "3513246f",
   "metadata": {},
   "outputs": [
    {
     "data": {
      "text/html": [
       "<div>\n",
       "<style scoped>\n",
       "    .dataframe tbody tr th:only-of-type {\n",
       "        vertical-align: middle;\n",
       "    }\n",
       "\n",
       "    .dataframe tbody tr th {\n",
       "        vertical-align: top;\n",
       "    }\n",
       "\n",
       "    .dataframe thead th {\n",
       "        text-align: right;\n",
       "    }\n",
       "</style>\n",
       "<table border=\"1\" class=\"dataframe\">\n",
       "  <thead>\n",
       "    <tr style=\"text-align: right;\">\n",
       "      <th></th>\n",
       "      <th>Qualification</th>\n",
       "      <th>Experience</th>\n",
       "      <th>Rating</th>\n",
       "      <th>Place</th>\n",
       "      <th>Profile</th>\n",
       "      <th>Miscellaneous_Info</th>\n",
       "      <th>Fees</th>\n",
       "    </tr>\n",
       "  </thead>\n",
       "  <tbody>\n",
       "    <tr>\n",
       "      <th>0</th>\n",
       "      <td>BHMS, MD - Homeopathy</td>\n",
       "      <td>24 years experience</td>\n",
       "      <td>100%</td>\n",
       "      <td>Kakkanad, Ernakulam</td>\n",
       "      <td>Homeopath</td>\n",
       "      <td>100% 16 Feedback Kakkanad, Ernakulam</td>\n",
       "      <td>100</td>\n",
       "    </tr>\n",
       "    <tr>\n",
       "      <th>1</th>\n",
       "      <td>BAMS, MD - Ayurveda Medicine</td>\n",
       "      <td>12 years experience</td>\n",
       "      <td>98%</td>\n",
       "      <td>Whitefield, Bangalore</td>\n",
       "      <td>Ayurveda</td>\n",
       "      <td>98% 76 Feedback Whitefield, Bangalore</td>\n",
       "      <td>350</td>\n",
       "    </tr>\n",
       "    <tr>\n",
       "      <th>2</th>\n",
       "      <td>MBBS, MS - Otorhinolaryngology</td>\n",
       "      <td>9 years experience</td>\n",
       "      <td>NaN</td>\n",
       "      <td>Mathikere - BEL, Bangalore</td>\n",
       "      <td>ENT Specialist</td>\n",
       "      <td>NaN</td>\n",
       "      <td>300</td>\n",
       "    </tr>\n",
       "    <tr>\n",
       "      <th>3</th>\n",
       "      <td>BSc - Zoology, BAMS</td>\n",
       "      <td>12 years experience</td>\n",
       "      <td>NaN</td>\n",
       "      <td>Bannerghatta Road, Bangalore</td>\n",
       "      <td>Ayurveda</td>\n",
       "      <td>Bannerghatta Road, Bangalore ?250 Available on...</td>\n",
       "      <td>250</td>\n",
       "    </tr>\n",
       "    <tr>\n",
       "      <th>4</th>\n",
       "      <td>BAMS</td>\n",
       "      <td>20 years experience</td>\n",
       "      <td>100%</td>\n",
       "      <td>Keelkattalai, Chennai</td>\n",
       "      <td>Ayurveda</td>\n",
       "      <td>100% 4 Feedback Keelkattalai, Chennai</td>\n",
       "      <td>250</td>\n",
       "    </tr>\n",
       "    <tr>\n",
       "      <th>...</th>\n",
       "      <td>...</td>\n",
       "      <td>...</td>\n",
       "      <td>...</td>\n",
       "      <td>...</td>\n",
       "      <td>...</td>\n",
       "      <td>...</td>\n",
       "      <td>...</td>\n",
       "    </tr>\n",
       "    <tr>\n",
       "      <th>5956</th>\n",
       "      <td>MBBS, MS - ENT</td>\n",
       "      <td>19 years experience</td>\n",
       "      <td>98%</td>\n",
       "      <td>Basavanagudi, Bangalore</td>\n",
       "      <td>ENT Specialist</td>\n",
       "      <td>98% 45 Feedback Basavanagudi, Bangalore</td>\n",
       "      <td>300</td>\n",
       "    </tr>\n",
       "    <tr>\n",
       "      <th>5957</th>\n",
       "      <td>MBBS</td>\n",
       "      <td>33 years experience</td>\n",
       "      <td>NaN</td>\n",
       "      <td>Nungambakkam, Chennai</td>\n",
       "      <td>General Medicine</td>\n",
       "      <td>NaN</td>\n",
       "      <td>100</td>\n",
       "    </tr>\n",
       "    <tr>\n",
       "      <th>5958</th>\n",
       "      <td>MBBS</td>\n",
       "      <td>41 years experience</td>\n",
       "      <td>97%</td>\n",
       "      <td>Greater Kailash Part 2, Delhi</td>\n",
       "      <td>General Medicine</td>\n",
       "      <td>97% 11 Feedback Greater Kailash Part 2, Delhi</td>\n",
       "      <td>600</td>\n",
       "    </tr>\n",
       "    <tr>\n",
       "      <th>5959</th>\n",
       "      <td>MBBS, MD - General Medicine</td>\n",
       "      <td>15 years experience</td>\n",
       "      <td>90%</td>\n",
       "      <td>Vileparle West, Mumbai</td>\n",
       "      <td>General Medicine</td>\n",
       "      <td>General Medical Consultation Viral Fever Treat...</td>\n",
       "      <td>100</td>\n",
       "    </tr>\n",
       "    <tr>\n",
       "      <th>5960</th>\n",
       "      <td>BDS, MDS - Orthodontics</td>\n",
       "      <td>17 years experience</td>\n",
       "      <td>100%</td>\n",
       "      <td>Pitampura, Delhi</td>\n",
       "      <td>Dentist</td>\n",
       "      <td>Acrylic Partial Denture Crowns and Bridges Fix...</td>\n",
       "      <td>200</td>\n",
       "    </tr>\n",
       "  </tbody>\n",
       "</table>\n",
       "<p>5961 rows × 7 columns</p>\n",
       "</div>"
      ],
      "text/plain": [
       "                       Qualification           Experience Rating  \\\n",
       "0              BHMS, MD - Homeopathy  24 years experience   100%   \n",
       "1       BAMS, MD - Ayurveda Medicine  12 years experience    98%   \n",
       "2     MBBS, MS - Otorhinolaryngology   9 years experience    NaN   \n",
       "3                BSc - Zoology, BAMS  12 years experience    NaN   \n",
       "4                               BAMS  20 years experience   100%   \n",
       "...                              ...                  ...    ...   \n",
       "5956                  MBBS, MS - ENT  19 years experience    98%   \n",
       "5957                            MBBS  33 years experience    NaN   \n",
       "5958                            MBBS  41 years experience    97%   \n",
       "5959     MBBS, MD - General Medicine  15 years experience    90%   \n",
       "5960         BDS, MDS - Orthodontics  17 years experience   100%   \n",
       "\n",
       "                              Place           Profile  \\\n",
       "0               Kakkanad, Ernakulam         Homeopath   \n",
       "1             Whitefield, Bangalore          Ayurveda   \n",
       "2        Mathikere - BEL, Bangalore    ENT Specialist   \n",
       "3      Bannerghatta Road, Bangalore          Ayurveda   \n",
       "4             Keelkattalai, Chennai          Ayurveda   \n",
       "...                             ...               ...   \n",
       "5956        Basavanagudi, Bangalore    ENT Specialist   \n",
       "5957          Nungambakkam, Chennai  General Medicine   \n",
       "5958  Greater Kailash Part 2, Delhi  General Medicine   \n",
       "5959         Vileparle West, Mumbai  General Medicine   \n",
       "5960               Pitampura, Delhi           Dentist   \n",
       "\n",
       "                                     Miscellaneous_Info  Fees  \n",
       "0                  100% 16 Feedback Kakkanad, Ernakulam   100  \n",
       "1                 98% 76 Feedback Whitefield, Bangalore   350  \n",
       "2                                                   NaN   300  \n",
       "3     Bannerghatta Road, Bangalore ?250 Available on...   250  \n",
       "4                 100% 4 Feedback Keelkattalai, Chennai   250  \n",
       "...                                                 ...   ...  \n",
       "5956            98% 45 Feedback Basavanagudi, Bangalore   300  \n",
       "5957                                                NaN   100  \n",
       "5958      97% 11 Feedback Greater Kailash Part 2, Delhi   600  \n",
       "5959  General Medical Consultation Viral Fever Treat...   100  \n",
       "5960  Acrylic Partial Denture Crowns and Bridges Fix...   200  \n",
       "\n",
       "[5961 rows x 7 columns]"
      ]
     },
     "execution_count": 3,
     "metadata": {},
     "output_type": "execute_result"
    }
   ],
   "source": [
    "train_df"
   ]
  },
  {
   "cell_type": "code",
   "execution_count": 4,
   "id": "5035130b",
   "metadata": {},
   "outputs": [],
   "source": [
    "#### testing Dataset\n",
    "test_df = pd.read_csv('doc_fee_test.csv')"
   ]
  },
  {
   "cell_type": "code",
   "execution_count": 5,
   "id": "cb6cd73a",
   "metadata": {},
   "outputs": [
    {
     "data": {
      "text/html": [
       "<div>\n",
       "<style scoped>\n",
       "    .dataframe tbody tr th:only-of-type {\n",
       "        vertical-align: middle;\n",
       "    }\n",
       "\n",
       "    .dataframe tbody tr th {\n",
       "        vertical-align: top;\n",
       "    }\n",
       "\n",
       "    .dataframe thead th {\n",
       "        text-align: right;\n",
       "    }\n",
       "</style>\n",
       "<table border=\"1\" class=\"dataframe\">\n",
       "  <thead>\n",
       "    <tr style=\"text-align: right;\">\n",
       "      <th></th>\n",
       "      <th>Qualification</th>\n",
       "      <th>Experience</th>\n",
       "      <th>Rating</th>\n",
       "      <th>Place</th>\n",
       "      <th>Profile</th>\n",
       "      <th>Miscellaneous_Info</th>\n",
       "    </tr>\n",
       "  </thead>\n",
       "  <tbody>\n",
       "    <tr>\n",
       "      <th>0</th>\n",
       "      <td>MBBS</td>\n",
       "      <td>35 years experience</td>\n",
       "      <td>NaN</td>\n",
       "      <td>Ghatkopar East, Mumbai</td>\n",
       "      <td>General Medicine</td>\n",
       "      <td>NaN</td>\n",
       "    </tr>\n",
       "    <tr>\n",
       "      <th>1</th>\n",
       "      <td>MBBS, Diploma in Otorhinolaryngology (DLO)</td>\n",
       "      <td>31 years experience</td>\n",
       "      <td>NaN</td>\n",
       "      <td>West Marredpally, Hyderabad</td>\n",
       "      <td>ENT Specialist</td>\n",
       "      <td>NaN</td>\n",
       "    </tr>\n",
       "    <tr>\n",
       "      <th>2</th>\n",
       "      <td>MBBS, DDVL</td>\n",
       "      <td>40 years experience</td>\n",
       "      <td>70%</td>\n",
       "      <td>KK Nagar, Chennai</td>\n",
       "      <td>Dermatologists</td>\n",
       "      <td>70% 4 Feedback KK Nagar, Chennai</td>\n",
       "    </tr>\n",
       "    <tr>\n",
       "      <th>3</th>\n",
       "      <td>BAMS</td>\n",
       "      <td>0 years experience</td>\n",
       "      <td>NaN</td>\n",
       "      <td>New Ashok Nagar, Delhi</td>\n",
       "      <td>Ayurveda</td>\n",
       "      <td>NaN</td>\n",
       "    </tr>\n",
       "    <tr>\n",
       "      <th>4</th>\n",
       "      <td>BDS, MDS - Conservative Dentistry &amp; Endodontics</td>\n",
       "      <td>16 years experience</td>\n",
       "      <td>100%</td>\n",
       "      <td>Kanakpura Road, Bangalore</td>\n",
       "      <td>Dentist</td>\n",
       "      <td>General Dentistry Conservative Dentistry Cosme...</td>\n",
       "    </tr>\n",
       "    <tr>\n",
       "      <th>...</th>\n",
       "      <td>...</td>\n",
       "      <td>...</td>\n",
       "      <td>...</td>\n",
       "      <td>...</td>\n",
       "      <td>...</td>\n",
       "      <td>...</td>\n",
       "    </tr>\n",
       "    <tr>\n",
       "      <th>1982</th>\n",
       "      <td>BAMS, Doctor of Medicine</td>\n",
       "      <td>10 years experience</td>\n",
       "      <td>NaN</td>\n",
       "      <td>Basavanagudi, Bangalore</td>\n",
       "      <td>Ayurveda</td>\n",
       "      <td>NaN</td>\n",
       "    </tr>\n",
       "    <tr>\n",
       "      <th>1983</th>\n",
       "      <td>MD - Dermatology , Venereology &amp; Leprosy, MBBS</td>\n",
       "      <td>4 years experience</td>\n",
       "      <td>NaN</td>\n",
       "      <td>Choolai, Chennai</td>\n",
       "      <td>Dermatologists</td>\n",
       "      <td>NaN</td>\n",
       "    </tr>\n",
       "    <tr>\n",
       "      <th>1984</th>\n",
       "      <td>MBBS, MD / MS - Obstetrics &amp; Gynaecology</td>\n",
       "      <td>9 years experience</td>\n",
       "      <td>NaN</td>\n",
       "      <td>Porur, Chennai</td>\n",
       "      <td>General Medicine</td>\n",
       "      <td>NaN</td>\n",
       "    </tr>\n",
       "    <tr>\n",
       "      <th>1985</th>\n",
       "      <td>BDS</td>\n",
       "      <td>12 years experience</td>\n",
       "      <td>98%</td>\n",
       "      <td>Arekere, Bangalore</td>\n",
       "      <td>Dentist</td>\n",
       "      <td>RCT - Root Canal Treatment Root Canal Treatmen...</td>\n",
       "    </tr>\n",
       "    <tr>\n",
       "      <th>1986</th>\n",
       "      <td>MBBS, MD - Dermatology , Venereology &amp; Leprosy</td>\n",
       "      <td>8 years experience</td>\n",
       "      <td>NaN</td>\n",
       "      <td>Pallikaranai, Chennai</td>\n",
       "      <td>Dermatologists</td>\n",
       "      <td>1 Feedback Pallikaranai, Chennai ?500</td>\n",
       "    </tr>\n",
       "  </tbody>\n",
       "</table>\n",
       "<p>1987 rows × 6 columns</p>\n",
       "</div>"
      ],
      "text/plain": [
       "                                        Qualification           Experience  \\\n",
       "0                                                MBBS  35 years experience   \n",
       "1          MBBS, Diploma in Otorhinolaryngology (DLO)  31 years experience   \n",
       "2                                          MBBS, DDVL  40 years experience   \n",
       "3                                                BAMS   0 years experience   \n",
       "4     BDS, MDS - Conservative Dentistry & Endodontics  16 years experience   \n",
       "...                                               ...                  ...   \n",
       "1982                         BAMS, Doctor of Medicine  10 years experience   \n",
       "1983   MD - Dermatology , Venereology & Leprosy, MBBS   4 years experience   \n",
       "1984         MBBS, MD / MS - Obstetrics & Gynaecology   9 years experience   \n",
       "1985                                              BDS  12 years experience   \n",
       "1986   MBBS, MD - Dermatology , Venereology & Leprosy   8 years experience   \n",
       "\n",
       "     Rating                        Place           Profile  \\\n",
       "0       NaN       Ghatkopar East, Mumbai  General Medicine   \n",
       "1       NaN  West Marredpally, Hyderabad    ENT Specialist   \n",
       "2       70%            KK Nagar, Chennai    Dermatologists   \n",
       "3       NaN       New Ashok Nagar, Delhi          Ayurveda   \n",
       "4      100%    Kanakpura Road, Bangalore           Dentist   \n",
       "...     ...                          ...               ...   \n",
       "1982    NaN      Basavanagudi, Bangalore          Ayurveda   \n",
       "1983    NaN             Choolai, Chennai    Dermatologists   \n",
       "1984    NaN               Porur, Chennai  General Medicine   \n",
       "1985    98%           Arekere, Bangalore           Dentist   \n",
       "1986    NaN        Pallikaranai, Chennai    Dermatologists   \n",
       "\n",
       "                                     Miscellaneous_Info  \n",
       "0                                                   NaN  \n",
       "1                                                   NaN  \n",
       "2                      70% 4 Feedback KK Nagar, Chennai  \n",
       "3                                                   NaN  \n",
       "4     General Dentistry Conservative Dentistry Cosme...  \n",
       "...                                                 ...  \n",
       "1982                                                NaN  \n",
       "1983                                                NaN  \n",
       "1984                                                NaN  \n",
       "1985  RCT - Root Canal Treatment Root Canal Treatmen...  \n",
       "1986              1 Feedback Pallikaranai, Chennai ?500  \n",
       "\n",
       "[1987 rows x 6 columns]"
      ]
     },
     "execution_count": 5,
     "metadata": {},
     "output_type": "execute_result"
    }
   ],
   "source": [
    "test_df"
   ]
  },
  {
   "cell_type": "markdown",
   "id": "3c509efa",
   "metadata": {},
   "source": [
    "# EDA Exploritory Data Analysis"
   ]
  },
  {
   "cell_type": "code",
   "execution_count": 6,
   "id": "b6af02c2",
   "metadata": {},
   "outputs": [
    {
     "data": {
      "text/plain": [
       "(5961, 7)"
      ]
     },
     "execution_count": 6,
     "metadata": {},
     "output_type": "execute_result"
    }
   ],
   "source": [
    "#### see the shape of train dataset\n",
    "\n",
    "train_df.shape ### 5961 rows and a7 columns"
   ]
  },
  {
   "cell_type": "code",
   "execution_count": 7,
   "id": "efe33ffd",
   "metadata": {},
   "outputs": [
    {
     "data": {
      "text/plain": [
       "(1987, 6)"
      ]
     },
     "execution_count": 7,
     "metadata": {},
     "output_type": "execute_result"
    }
   ],
   "source": [
    "#### see the shape of test dataset\n",
    "\n",
    "test_df.shape # 1987 rows and 6 columns"
   ]
  },
  {
   "cell_type": "code",
   "execution_count": 8,
   "id": "c1d5b397",
   "metadata": {},
   "outputs": [
    {
     "data": {
      "text/plain": [
       "Qualification         object\n",
       "Experience            object\n",
       "Rating                object\n",
       "Place                 object\n",
       "Profile               object\n",
       "Miscellaneous_Info    object\n",
       "Fees                   int64\n",
       "dtype: object"
      ]
     },
     "execution_count": 8,
     "metadata": {},
     "output_type": "execute_result"
    }
   ],
   "source": [
    "#### check train column type\n",
    "\n",
    "train_df.dtypes"
   ]
  },
  {
   "cell_type": "code",
   "execution_count": 9,
   "id": "ead66999",
   "metadata": {},
   "outputs": [],
   "source": [
    "##### having all columns in catagorial form except fees which is target variable\n"
   ]
  },
  {
   "cell_type": "code",
   "execution_count": 10,
   "id": "54546181",
   "metadata": {},
   "outputs": [
    {
     "data": {
      "text/plain": [
       "0                BHMS, MD - Homeopathy\n",
       "1         BAMS, MD - Ayurveda Medicine\n",
       "2       MBBS, MS - Otorhinolaryngology\n",
       "3                  BSc - Zoology, BAMS\n",
       "4                                 BAMS\n",
       "                     ...              \n",
       "5956                    MBBS, MS - ENT\n",
       "5957                              MBBS\n",
       "5958                              MBBS\n",
       "5959       MBBS, MD - General Medicine\n",
       "5960           BDS, MDS - Orthodontics\n",
       "Name: Qualification, Length: 5961, dtype: object"
      ]
     },
     "execution_count": 10,
     "metadata": {},
     "output_type": "execute_result"
    }
   ],
   "source": [
    "train_df['Qualification']"
   ]
  },
  {
   "cell_type": "code",
   "execution_count": 11,
   "id": "2fc77722",
   "metadata": {},
   "outputs": [
    {
     "data": {
      "text/plain": [
       "Qualification            0\n",
       "Experience               0\n",
       "Rating                3302\n",
       "Place                   25\n",
       "Profile                  0\n",
       "Miscellaneous_Info    2620\n",
       "Fees                     0\n",
       "dtype: int64"
      ]
     },
     "execution_count": 11,
     "metadata": {},
     "output_type": "execute_result"
    }
   ],
   "source": [
    "##### check Null Value for the dataset\n",
    "train_df.isnull().sum()"
   ]
  },
  {
   "cell_type": "code",
   "execution_count": 12,
   "id": "dbc11388",
   "metadata": {},
   "outputs": [
    {
     "data": {
      "text/plain": [
       "Qualification          0.000000\n",
       "Experience             0.000000\n",
       "Rating                55.393390\n",
       "Place                  0.419393\n",
       "Profile                0.000000\n",
       "Miscellaneous_Info    43.952357\n",
       "Fees                   0.000000\n",
       "dtype: float64"
      ]
     },
     "execution_count": 12,
     "metadata": {},
     "output_type": "execute_result"
    }
   ],
   "source": [
    "#### check the percentage of missing values\n",
    "train_df.isnull().sum()/len(train_df)*100"
   ]
  },
  {
   "cell_type": "code",
   "execution_count": 13,
   "id": "8414bff4",
   "metadata": {},
   "outputs": [],
   "source": [
    "##### split the year of experience\n",
    "train_df['Experience']=train_df['Experience'].str.split()\n",
    "\n",
    "#### split int value from experience\n",
    "train_df['Experience']=train_df['Experience'].str[0].astype(\"int\")"
   ]
  },
  {
   "cell_type": "code",
   "execution_count": 14,
   "id": "e023f458",
   "metadata": {},
   "outputs": [
    {
     "data": {
      "text/html": [
       "<div>\n",
       "<style scoped>\n",
       "    .dataframe tbody tr th:only-of-type {\n",
       "        vertical-align: middle;\n",
       "    }\n",
       "\n",
       "    .dataframe tbody tr th {\n",
       "        vertical-align: top;\n",
       "    }\n",
       "\n",
       "    .dataframe thead th {\n",
       "        text-align: right;\n",
       "    }\n",
       "</style>\n",
       "<table border=\"1\" class=\"dataframe\">\n",
       "  <thead>\n",
       "    <tr style=\"text-align: right;\">\n",
       "      <th></th>\n",
       "      <th>Qualification</th>\n",
       "      <th>Experience</th>\n",
       "      <th>Rating</th>\n",
       "      <th>Place</th>\n",
       "      <th>Profile</th>\n",
       "      <th>Miscellaneous_Info</th>\n",
       "      <th>Fees</th>\n",
       "    </tr>\n",
       "  </thead>\n",
       "  <tbody>\n",
       "    <tr>\n",
       "      <th>0</th>\n",
       "      <td>BHMS, MD - Homeopathy</td>\n",
       "      <td>24</td>\n",
       "      <td>100%</td>\n",
       "      <td>Kakkanad, Ernakulam</td>\n",
       "      <td>Homeopath</td>\n",
       "      <td>100% 16 Feedback Kakkanad, Ernakulam</td>\n",
       "      <td>100</td>\n",
       "    </tr>\n",
       "    <tr>\n",
       "      <th>1</th>\n",
       "      <td>BAMS, MD - Ayurveda Medicine</td>\n",
       "      <td>12</td>\n",
       "      <td>98%</td>\n",
       "      <td>Whitefield, Bangalore</td>\n",
       "      <td>Ayurveda</td>\n",
       "      <td>98% 76 Feedback Whitefield, Bangalore</td>\n",
       "      <td>350</td>\n",
       "    </tr>\n",
       "    <tr>\n",
       "      <th>2</th>\n",
       "      <td>MBBS, MS - Otorhinolaryngology</td>\n",
       "      <td>9</td>\n",
       "      <td>NaN</td>\n",
       "      <td>Mathikere - BEL, Bangalore</td>\n",
       "      <td>ENT Specialist</td>\n",
       "      <td>NaN</td>\n",
       "      <td>300</td>\n",
       "    </tr>\n",
       "    <tr>\n",
       "      <th>3</th>\n",
       "      <td>BSc - Zoology, BAMS</td>\n",
       "      <td>12</td>\n",
       "      <td>NaN</td>\n",
       "      <td>Bannerghatta Road, Bangalore</td>\n",
       "      <td>Ayurveda</td>\n",
       "      <td>Bannerghatta Road, Bangalore ?250 Available on...</td>\n",
       "      <td>250</td>\n",
       "    </tr>\n",
       "    <tr>\n",
       "      <th>4</th>\n",
       "      <td>BAMS</td>\n",
       "      <td>20</td>\n",
       "      <td>100%</td>\n",
       "      <td>Keelkattalai, Chennai</td>\n",
       "      <td>Ayurveda</td>\n",
       "      <td>100% 4 Feedback Keelkattalai, Chennai</td>\n",
       "      <td>250</td>\n",
       "    </tr>\n",
       "    <tr>\n",
       "      <th>...</th>\n",
       "      <td>...</td>\n",
       "      <td>...</td>\n",
       "      <td>...</td>\n",
       "      <td>...</td>\n",
       "      <td>...</td>\n",
       "      <td>...</td>\n",
       "      <td>...</td>\n",
       "    </tr>\n",
       "    <tr>\n",
       "      <th>5956</th>\n",
       "      <td>MBBS, MS - ENT</td>\n",
       "      <td>19</td>\n",
       "      <td>98%</td>\n",
       "      <td>Basavanagudi, Bangalore</td>\n",
       "      <td>ENT Specialist</td>\n",
       "      <td>98% 45 Feedback Basavanagudi, Bangalore</td>\n",
       "      <td>300</td>\n",
       "    </tr>\n",
       "    <tr>\n",
       "      <th>5957</th>\n",
       "      <td>MBBS</td>\n",
       "      <td>33</td>\n",
       "      <td>NaN</td>\n",
       "      <td>Nungambakkam, Chennai</td>\n",
       "      <td>General Medicine</td>\n",
       "      <td>NaN</td>\n",
       "      <td>100</td>\n",
       "    </tr>\n",
       "    <tr>\n",
       "      <th>5958</th>\n",
       "      <td>MBBS</td>\n",
       "      <td>41</td>\n",
       "      <td>97%</td>\n",
       "      <td>Greater Kailash Part 2, Delhi</td>\n",
       "      <td>General Medicine</td>\n",
       "      <td>97% 11 Feedback Greater Kailash Part 2, Delhi</td>\n",
       "      <td>600</td>\n",
       "    </tr>\n",
       "    <tr>\n",
       "      <th>5959</th>\n",
       "      <td>MBBS, MD - General Medicine</td>\n",
       "      <td>15</td>\n",
       "      <td>90%</td>\n",
       "      <td>Vileparle West, Mumbai</td>\n",
       "      <td>General Medicine</td>\n",
       "      <td>General Medical Consultation Viral Fever Treat...</td>\n",
       "      <td>100</td>\n",
       "    </tr>\n",
       "    <tr>\n",
       "      <th>5960</th>\n",
       "      <td>BDS, MDS - Orthodontics</td>\n",
       "      <td>17</td>\n",
       "      <td>100%</td>\n",
       "      <td>Pitampura, Delhi</td>\n",
       "      <td>Dentist</td>\n",
       "      <td>Acrylic Partial Denture Crowns and Bridges Fix...</td>\n",
       "      <td>200</td>\n",
       "    </tr>\n",
       "  </tbody>\n",
       "</table>\n",
       "<p>5961 rows × 7 columns</p>\n",
       "</div>"
      ],
      "text/plain": [
       "                       Qualification  Experience Rating  \\\n",
       "0              BHMS, MD - Homeopathy          24   100%   \n",
       "1       BAMS, MD - Ayurveda Medicine          12    98%   \n",
       "2     MBBS, MS - Otorhinolaryngology           9    NaN   \n",
       "3                BSc - Zoology, BAMS          12    NaN   \n",
       "4                               BAMS          20   100%   \n",
       "...                              ...         ...    ...   \n",
       "5956                  MBBS, MS - ENT          19    98%   \n",
       "5957                            MBBS          33    NaN   \n",
       "5958                            MBBS          41    97%   \n",
       "5959     MBBS, MD - General Medicine          15    90%   \n",
       "5960         BDS, MDS - Orthodontics          17   100%   \n",
       "\n",
       "                              Place           Profile  \\\n",
       "0               Kakkanad, Ernakulam         Homeopath   \n",
       "1             Whitefield, Bangalore          Ayurveda   \n",
       "2        Mathikere - BEL, Bangalore    ENT Specialist   \n",
       "3      Bannerghatta Road, Bangalore          Ayurveda   \n",
       "4             Keelkattalai, Chennai          Ayurveda   \n",
       "...                             ...               ...   \n",
       "5956        Basavanagudi, Bangalore    ENT Specialist   \n",
       "5957          Nungambakkam, Chennai  General Medicine   \n",
       "5958  Greater Kailash Part 2, Delhi  General Medicine   \n",
       "5959         Vileparle West, Mumbai  General Medicine   \n",
       "5960               Pitampura, Delhi           Dentist   \n",
       "\n",
       "                                     Miscellaneous_Info  Fees  \n",
       "0                  100% 16 Feedback Kakkanad, Ernakulam   100  \n",
       "1                 98% 76 Feedback Whitefield, Bangalore   350  \n",
       "2                                                   NaN   300  \n",
       "3     Bannerghatta Road, Bangalore ?250 Available on...   250  \n",
       "4                 100% 4 Feedback Keelkattalai, Chennai   250  \n",
       "...                                                 ...   ...  \n",
       "5956            98% 45 Feedback Basavanagudi, Bangalore   300  \n",
       "5957                                                NaN   100  \n",
       "5958      97% 11 Feedback Greater Kailash Part 2, Delhi   600  \n",
       "5959  General Medical Consultation Viral Fever Treat...   100  \n",
       "5960  Acrylic Partial Denture Crowns and Bridges Fix...   200  \n",
       "\n",
       "[5961 rows x 7 columns]"
      ]
     },
     "execution_count": 14,
     "metadata": {},
     "output_type": "execute_result"
    }
   ],
   "source": [
    "train_df"
   ]
  },
  {
   "cell_type": "code",
   "execution_count": 15,
   "id": "776fb271",
   "metadata": {},
   "outputs": [],
   "source": [
    "##### Now split the place columns for city and place separately\n",
    "train_df['Place']=train_df['Place'].str.split(',')"
   ]
  },
  {
   "cell_type": "code",
   "execution_count": 16,
   "id": "2c648940",
   "metadata": {},
   "outputs": [],
   "source": [
    "train_df['City']=train_df['Place'].str[-1]"
   ]
  },
  {
   "cell_type": "code",
   "execution_count": 17,
   "id": "7338126e",
   "metadata": {},
   "outputs": [],
   "source": [
    "train_df['Place'] = train_df['Place'].str[0]"
   ]
  },
  {
   "cell_type": "code",
   "execution_count": 18,
   "id": "c7fd45ca",
   "metadata": {},
   "outputs": [],
   "source": [
    "train_df[\"Rating\"].fillna(\"-99%\",inplace=True)\n",
    "train_df[\"Rating\"] = train_df[\"Rating\"].str[:-1].astype(\"int\")"
   ]
  },
  {
   "cell_type": "code",
   "execution_count": 19,
   "id": "4626d452",
   "metadata": {},
   "outputs": [
    {
     "data": {
      "text/html": [
       "<div>\n",
       "<style scoped>\n",
       "    .dataframe tbody tr th:only-of-type {\n",
       "        vertical-align: middle;\n",
       "    }\n",
       "\n",
       "    .dataframe tbody tr th {\n",
       "        vertical-align: top;\n",
       "    }\n",
       "\n",
       "    .dataframe thead th {\n",
       "        text-align: right;\n",
       "    }\n",
       "</style>\n",
       "<table border=\"1\" class=\"dataframe\">\n",
       "  <thead>\n",
       "    <tr style=\"text-align: right;\">\n",
       "      <th></th>\n",
       "      <th>Qualification</th>\n",
       "      <th>Experience</th>\n",
       "      <th>Rating</th>\n",
       "      <th>Place</th>\n",
       "      <th>Profile</th>\n",
       "      <th>Miscellaneous_Info</th>\n",
       "      <th>Fees</th>\n",
       "      <th>City</th>\n",
       "    </tr>\n",
       "  </thead>\n",
       "  <tbody>\n",
       "    <tr>\n",
       "      <th>0</th>\n",
       "      <td>BHMS, MD - Homeopathy</td>\n",
       "      <td>24</td>\n",
       "      <td>100</td>\n",
       "      <td>Kakkanad</td>\n",
       "      <td>Homeopath</td>\n",
       "      <td>100% 16 Feedback Kakkanad, Ernakulam</td>\n",
       "      <td>100</td>\n",
       "      <td>Ernakulam</td>\n",
       "    </tr>\n",
       "    <tr>\n",
       "      <th>1</th>\n",
       "      <td>BAMS, MD - Ayurveda Medicine</td>\n",
       "      <td>12</td>\n",
       "      <td>98</td>\n",
       "      <td>Whitefield</td>\n",
       "      <td>Ayurveda</td>\n",
       "      <td>98% 76 Feedback Whitefield, Bangalore</td>\n",
       "      <td>350</td>\n",
       "      <td>Bangalore</td>\n",
       "    </tr>\n",
       "    <tr>\n",
       "      <th>2</th>\n",
       "      <td>MBBS, MS - Otorhinolaryngology</td>\n",
       "      <td>9</td>\n",
       "      <td>-99</td>\n",
       "      <td>Mathikere - BEL</td>\n",
       "      <td>ENT Specialist</td>\n",
       "      <td>NaN</td>\n",
       "      <td>300</td>\n",
       "      <td>Bangalore</td>\n",
       "    </tr>\n",
       "    <tr>\n",
       "      <th>3</th>\n",
       "      <td>BSc - Zoology, BAMS</td>\n",
       "      <td>12</td>\n",
       "      <td>-99</td>\n",
       "      <td>Bannerghatta Road</td>\n",
       "      <td>Ayurveda</td>\n",
       "      <td>Bannerghatta Road, Bangalore ?250 Available on...</td>\n",
       "      <td>250</td>\n",
       "      <td>Bangalore</td>\n",
       "    </tr>\n",
       "    <tr>\n",
       "      <th>4</th>\n",
       "      <td>BAMS</td>\n",
       "      <td>20</td>\n",
       "      <td>100</td>\n",
       "      <td>Keelkattalai</td>\n",
       "      <td>Ayurveda</td>\n",
       "      <td>100% 4 Feedback Keelkattalai, Chennai</td>\n",
       "      <td>250</td>\n",
       "      <td>Chennai</td>\n",
       "    </tr>\n",
       "    <tr>\n",
       "      <th>...</th>\n",
       "      <td>...</td>\n",
       "      <td>...</td>\n",
       "      <td>...</td>\n",
       "      <td>...</td>\n",
       "      <td>...</td>\n",
       "      <td>...</td>\n",
       "      <td>...</td>\n",
       "      <td>...</td>\n",
       "    </tr>\n",
       "    <tr>\n",
       "      <th>5956</th>\n",
       "      <td>MBBS, MS - ENT</td>\n",
       "      <td>19</td>\n",
       "      <td>98</td>\n",
       "      <td>Basavanagudi</td>\n",
       "      <td>ENT Specialist</td>\n",
       "      <td>98% 45 Feedback Basavanagudi, Bangalore</td>\n",
       "      <td>300</td>\n",
       "      <td>Bangalore</td>\n",
       "    </tr>\n",
       "    <tr>\n",
       "      <th>5957</th>\n",
       "      <td>MBBS</td>\n",
       "      <td>33</td>\n",
       "      <td>-99</td>\n",
       "      <td>Nungambakkam</td>\n",
       "      <td>General Medicine</td>\n",
       "      <td>NaN</td>\n",
       "      <td>100</td>\n",
       "      <td>Chennai</td>\n",
       "    </tr>\n",
       "    <tr>\n",
       "      <th>5958</th>\n",
       "      <td>MBBS</td>\n",
       "      <td>41</td>\n",
       "      <td>97</td>\n",
       "      <td>Greater Kailash Part 2</td>\n",
       "      <td>General Medicine</td>\n",
       "      <td>97% 11 Feedback Greater Kailash Part 2, Delhi</td>\n",
       "      <td>600</td>\n",
       "      <td>Delhi</td>\n",
       "    </tr>\n",
       "    <tr>\n",
       "      <th>5959</th>\n",
       "      <td>MBBS, MD - General Medicine</td>\n",
       "      <td>15</td>\n",
       "      <td>90</td>\n",
       "      <td>Vileparle West</td>\n",
       "      <td>General Medicine</td>\n",
       "      <td>General Medical Consultation Viral Fever Treat...</td>\n",
       "      <td>100</td>\n",
       "      <td>Mumbai</td>\n",
       "    </tr>\n",
       "    <tr>\n",
       "      <th>5960</th>\n",
       "      <td>BDS, MDS - Orthodontics</td>\n",
       "      <td>17</td>\n",
       "      <td>100</td>\n",
       "      <td>Pitampura</td>\n",
       "      <td>Dentist</td>\n",
       "      <td>Acrylic Partial Denture Crowns and Bridges Fix...</td>\n",
       "      <td>200</td>\n",
       "      <td>Delhi</td>\n",
       "    </tr>\n",
       "  </tbody>\n",
       "</table>\n",
       "<p>5961 rows × 8 columns</p>\n",
       "</div>"
      ],
      "text/plain": [
       "                       Qualification  Experience  Rating  \\\n",
       "0              BHMS, MD - Homeopathy          24     100   \n",
       "1       BAMS, MD - Ayurveda Medicine          12      98   \n",
       "2     MBBS, MS - Otorhinolaryngology           9     -99   \n",
       "3                BSc - Zoology, BAMS          12     -99   \n",
       "4                               BAMS          20     100   \n",
       "...                              ...         ...     ...   \n",
       "5956                  MBBS, MS - ENT          19      98   \n",
       "5957                            MBBS          33     -99   \n",
       "5958                            MBBS          41      97   \n",
       "5959     MBBS, MD - General Medicine          15      90   \n",
       "5960         BDS, MDS - Orthodontics          17     100   \n",
       "\n",
       "                       Place           Profile  \\\n",
       "0                   Kakkanad         Homeopath   \n",
       "1                 Whitefield          Ayurveda   \n",
       "2            Mathikere - BEL    ENT Specialist   \n",
       "3          Bannerghatta Road          Ayurveda   \n",
       "4               Keelkattalai          Ayurveda   \n",
       "...                      ...               ...   \n",
       "5956            Basavanagudi    ENT Specialist   \n",
       "5957            Nungambakkam  General Medicine   \n",
       "5958  Greater Kailash Part 2  General Medicine   \n",
       "5959          Vileparle West  General Medicine   \n",
       "5960               Pitampura           Dentist   \n",
       "\n",
       "                                     Miscellaneous_Info  Fees        City  \n",
       "0                  100% 16 Feedback Kakkanad, Ernakulam   100   Ernakulam  \n",
       "1                 98% 76 Feedback Whitefield, Bangalore   350   Bangalore  \n",
       "2                                                   NaN   300   Bangalore  \n",
       "3     Bannerghatta Road, Bangalore ?250 Available on...   250   Bangalore  \n",
       "4                 100% 4 Feedback Keelkattalai, Chennai   250     Chennai  \n",
       "...                                                 ...   ...         ...  \n",
       "5956            98% 45 Feedback Basavanagudi, Bangalore   300   Bangalore  \n",
       "5957                                                NaN   100     Chennai  \n",
       "5958      97% 11 Feedback Greater Kailash Part 2, Delhi   600       Delhi  \n",
       "5959  General Medical Consultation Viral Fever Treat...   100      Mumbai  \n",
       "5960  Acrylic Partial Denture Crowns and Bridges Fix...   200       Delhi  \n",
       "\n",
       "[5961 rows x 8 columns]"
      ]
     },
     "execution_count": 19,
     "metadata": {},
     "output_type": "execute_result"
    }
   ],
   "source": [
    "train_df"
   ]
  },
  {
   "cell_type": "code",
   "execution_count": null,
   "id": "8c542a30",
   "metadata": {},
   "outputs": [],
   "source": []
  },
  {
   "cell_type": "code",
   "execution_count": 20,
   "id": "baa1d219",
   "metadata": {},
   "outputs": [],
   "source": [
    "##### split the qualification columns into indivisual qualification and drop the real one"
   ]
  },
  {
   "cell_type": "code",
   "execution_count": 21,
   "id": "4c7c0baf",
   "metadata": {},
   "outputs": [],
   "source": [
    "train_df['Qual_1'] = train_df['Qualification'].str.split(',').str[0]"
   ]
  },
  {
   "cell_type": "code",
   "execution_count": 22,
   "id": "e782bd03",
   "metadata": {},
   "outputs": [],
   "source": [
    "train_df['Qual_2'] = train_df['Qualification'].str.split(',').str[1]"
   ]
  },
  {
   "cell_type": "code",
   "execution_count": 23,
   "id": "3683153b",
   "metadata": {},
   "outputs": [],
   "source": [
    "train_df['Qual_3'] = train_df['Qual_2'].str.split('-').str[1]"
   ]
  },
  {
   "cell_type": "code",
   "execution_count": 24,
   "id": "aef82f04",
   "metadata": {},
   "outputs": [],
   "source": [
    "train_df['Qual_2'] = train_df['Qual_2'].str.split('-').str[0]"
   ]
  },
  {
   "cell_type": "code",
   "execution_count": 25,
   "id": "6705c7b4",
   "metadata": {},
   "outputs": [],
   "source": [
    "train_df['Qual_4'] = train_df['Qual_1'].str.split('-').str[1]"
   ]
  },
  {
   "cell_type": "code",
   "execution_count": 26,
   "id": "2ec1166a",
   "metadata": {},
   "outputs": [],
   "source": [
    "train_df['Qual_1'] = train_df['Qual_1'].str.split('-').str[0]"
   ]
  },
  {
   "cell_type": "code",
   "execution_count": 27,
   "id": "1efec5af",
   "metadata": {},
   "outputs": [],
   "source": [
    "train_df.drop('Qualification',axis=1,inplace=True)"
   ]
  },
  {
   "cell_type": "code",
   "execution_count": null,
   "id": "0d51dbee",
   "metadata": {},
   "outputs": [],
   "source": []
  },
  {
   "cell_type": "code",
   "execution_count": null,
   "id": "fc5343a4",
   "metadata": {},
   "outputs": [],
   "source": []
  },
  {
   "cell_type": "code",
   "execution_count": 28,
   "id": "e91682ce",
   "metadata": {},
   "outputs": [
    {
     "data": {
      "text/html": [
       "<div>\n",
       "<style scoped>\n",
       "    .dataframe tbody tr th:only-of-type {\n",
       "        vertical-align: middle;\n",
       "    }\n",
       "\n",
       "    .dataframe tbody tr th {\n",
       "        vertical-align: top;\n",
       "    }\n",
       "\n",
       "    .dataframe thead th {\n",
       "        text-align: right;\n",
       "    }\n",
       "</style>\n",
       "<table border=\"1\" class=\"dataframe\">\n",
       "  <thead>\n",
       "    <tr style=\"text-align: right;\">\n",
       "      <th></th>\n",
       "      <th>Experience</th>\n",
       "      <th>Rating</th>\n",
       "      <th>Place</th>\n",
       "      <th>Profile</th>\n",
       "      <th>Miscellaneous_Info</th>\n",
       "      <th>Fees</th>\n",
       "      <th>City</th>\n",
       "      <th>Qual_1</th>\n",
       "      <th>Qual_2</th>\n",
       "      <th>Qual_3</th>\n",
       "      <th>Qual_4</th>\n",
       "    </tr>\n",
       "  </thead>\n",
       "  <tbody>\n",
       "    <tr>\n",
       "      <th>0</th>\n",
       "      <td>24</td>\n",
       "      <td>100</td>\n",
       "      <td>Kakkanad</td>\n",
       "      <td>Homeopath</td>\n",
       "      <td>100% 16 Feedback Kakkanad, Ernakulam</td>\n",
       "      <td>100</td>\n",
       "      <td>Ernakulam</td>\n",
       "      <td>BHMS</td>\n",
       "      <td>MD</td>\n",
       "      <td>Homeopathy</td>\n",
       "      <td>NaN</td>\n",
       "    </tr>\n",
       "    <tr>\n",
       "      <th>1</th>\n",
       "      <td>12</td>\n",
       "      <td>98</td>\n",
       "      <td>Whitefield</td>\n",
       "      <td>Ayurveda</td>\n",
       "      <td>98% 76 Feedback Whitefield, Bangalore</td>\n",
       "      <td>350</td>\n",
       "      <td>Bangalore</td>\n",
       "      <td>BAMS</td>\n",
       "      <td>MD</td>\n",
       "      <td>Ayurveda Medicine</td>\n",
       "      <td>NaN</td>\n",
       "    </tr>\n",
       "    <tr>\n",
       "      <th>2</th>\n",
       "      <td>9</td>\n",
       "      <td>-99</td>\n",
       "      <td>Mathikere - BEL</td>\n",
       "      <td>ENT Specialist</td>\n",
       "      <td>NaN</td>\n",
       "      <td>300</td>\n",
       "      <td>Bangalore</td>\n",
       "      <td>MBBS</td>\n",
       "      <td>MS</td>\n",
       "      <td>Otorhinolaryngology</td>\n",
       "      <td>NaN</td>\n",
       "    </tr>\n",
       "    <tr>\n",
       "      <th>3</th>\n",
       "      <td>12</td>\n",
       "      <td>-99</td>\n",
       "      <td>Bannerghatta Road</td>\n",
       "      <td>Ayurveda</td>\n",
       "      <td>Bannerghatta Road, Bangalore ?250 Available on...</td>\n",
       "      <td>250</td>\n",
       "      <td>Bangalore</td>\n",
       "      <td>BSc</td>\n",
       "      <td>BAMS</td>\n",
       "      <td>NaN</td>\n",
       "      <td>Zoology</td>\n",
       "    </tr>\n",
       "    <tr>\n",
       "      <th>4</th>\n",
       "      <td>20</td>\n",
       "      <td>100</td>\n",
       "      <td>Keelkattalai</td>\n",
       "      <td>Ayurveda</td>\n",
       "      <td>100% 4 Feedback Keelkattalai, Chennai</td>\n",
       "      <td>250</td>\n",
       "      <td>Chennai</td>\n",
       "      <td>BAMS</td>\n",
       "      <td>NaN</td>\n",
       "      <td>NaN</td>\n",
       "      <td>NaN</td>\n",
       "    </tr>\n",
       "    <tr>\n",
       "      <th>...</th>\n",
       "      <td>...</td>\n",
       "      <td>...</td>\n",
       "      <td>...</td>\n",
       "      <td>...</td>\n",
       "      <td>...</td>\n",
       "      <td>...</td>\n",
       "      <td>...</td>\n",
       "      <td>...</td>\n",
       "      <td>...</td>\n",
       "      <td>...</td>\n",
       "      <td>...</td>\n",
       "    </tr>\n",
       "    <tr>\n",
       "      <th>5956</th>\n",
       "      <td>19</td>\n",
       "      <td>98</td>\n",
       "      <td>Basavanagudi</td>\n",
       "      <td>ENT Specialist</td>\n",
       "      <td>98% 45 Feedback Basavanagudi, Bangalore</td>\n",
       "      <td>300</td>\n",
       "      <td>Bangalore</td>\n",
       "      <td>MBBS</td>\n",
       "      <td>MS</td>\n",
       "      <td>ENT</td>\n",
       "      <td>NaN</td>\n",
       "    </tr>\n",
       "    <tr>\n",
       "      <th>5957</th>\n",
       "      <td>33</td>\n",
       "      <td>-99</td>\n",
       "      <td>Nungambakkam</td>\n",
       "      <td>General Medicine</td>\n",
       "      <td>NaN</td>\n",
       "      <td>100</td>\n",
       "      <td>Chennai</td>\n",
       "      <td>MBBS</td>\n",
       "      <td>NaN</td>\n",
       "      <td>NaN</td>\n",
       "      <td>NaN</td>\n",
       "    </tr>\n",
       "    <tr>\n",
       "      <th>5958</th>\n",
       "      <td>41</td>\n",
       "      <td>97</td>\n",
       "      <td>Greater Kailash Part 2</td>\n",
       "      <td>General Medicine</td>\n",
       "      <td>97% 11 Feedback Greater Kailash Part 2, Delhi</td>\n",
       "      <td>600</td>\n",
       "      <td>Delhi</td>\n",
       "      <td>MBBS</td>\n",
       "      <td>NaN</td>\n",
       "      <td>NaN</td>\n",
       "      <td>NaN</td>\n",
       "    </tr>\n",
       "    <tr>\n",
       "      <th>5959</th>\n",
       "      <td>15</td>\n",
       "      <td>90</td>\n",
       "      <td>Vileparle West</td>\n",
       "      <td>General Medicine</td>\n",
       "      <td>General Medical Consultation Viral Fever Treat...</td>\n",
       "      <td>100</td>\n",
       "      <td>Mumbai</td>\n",
       "      <td>MBBS</td>\n",
       "      <td>MD</td>\n",
       "      <td>General Medicine</td>\n",
       "      <td>NaN</td>\n",
       "    </tr>\n",
       "    <tr>\n",
       "      <th>5960</th>\n",
       "      <td>17</td>\n",
       "      <td>100</td>\n",
       "      <td>Pitampura</td>\n",
       "      <td>Dentist</td>\n",
       "      <td>Acrylic Partial Denture Crowns and Bridges Fix...</td>\n",
       "      <td>200</td>\n",
       "      <td>Delhi</td>\n",
       "      <td>BDS</td>\n",
       "      <td>MDS</td>\n",
       "      <td>Orthodontics</td>\n",
       "      <td>NaN</td>\n",
       "    </tr>\n",
       "  </tbody>\n",
       "</table>\n",
       "<p>5961 rows × 11 columns</p>\n",
       "</div>"
      ],
      "text/plain": [
       "      Experience  Rating                   Place           Profile  \\\n",
       "0             24     100                Kakkanad         Homeopath   \n",
       "1             12      98              Whitefield          Ayurveda   \n",
       "2              9     -99         Mathikere - BEL    ENT Specialist   \n",
       "3             12     -99       Bannerghatta Road          Ayurveda   \n",
       "4             20     100            Keelkattalai          Ayurveda   \n",
       "...          ...     ...                     ...               ...   \n",
       "5956          19      98            Basavanagudi    ENT Specialist   \n",
       "5957          33     -99            Nungambakkam  General Medicine   \n",
       "5958          41      97  Greater Kailash Part 2  General Medicine   \n",
       "5959          15      90          Vileparle West  General Medicine   \n",
       "5960          17     100               Pitampura           Dentist   \n",
       "\n",
       "                                     Miscellaneous_Info  Fees        City  \\\n",
       "0                  100% 16 Feedback Kakkanad, Ernakulam   100   Ernakulam   \n",
       "1                 98% 76 Feedback Whitefield, Bangalore   350   Bangalore   \n",
       "2                                                   NaN   300   Bangalore   \n",
       "3     Bannerghatta Road, Bangalore ?250 Available on...   250   Bangalore   \n",
       "4                 100% 4 Feedback Keelkattalai, Chennai   250     Chennai   \n",
       "...                                                 ...   ...         ...   \n",
       "5956            98% 45 Feedback Basavanagudi, Bangalore   300   Bangalore   \n",
       "5957                                                NaN   100     Chennai   \n",
       "5958      97% 11 Feedback Greater Kailash Part 2, Delhi   600       Delhi   \n",
       "5959  General Medical Consultation Viral Fever Treat...   100      Mumbai   \n",
       "5960  Acrylic Partial Denture Crowns and Bridges Fix...   200       Delhi   \n",
       "\n",
       "     Qual_1 Qual_2                Qual_3    Qual_4  \n",
       "0      BHMS    MD             Homeopathy       NaN  \n",
       "1      BAMS    MD      Ayurveda Medicine       NaN  \n",
       "2      MBBS    MS    Otorhinolaryngology       NaN  \n",
       "3      BSc    BAMS                   NaN   Zoology  \n",
       "4      BAMS    NaN                   NaN       NaN  \n",
       "...     ...    ...                   ...       ...  \n",
       "5956   MBBS    MS                    ENT       NaN  \n",
       "5957   MBBS    NaN                   NaN       NaN  \n",
       "5958   MBBS    NaN                   NaN       NaN  \n",
       "5959   MBBS    MD       General Medicine       NaN  \n",
       "5960    BDS   MDS           Orthodontics       NaN  \n",
       "\n",
       "[5961 rows x 11 columns]"
      ]
     },
     "execution_count": 28,
     "metadata": {},
     "output_type": "execute_result"
    }
   ],
   "source": [
    "train_df"
   ]
  },
  {
   "cell_type": "markdown",
   "id": "710d6bbe",
   "metadata": {},
   "source": [
    "#### fill NaN value \n",
    "\n",
    "\n"
   ]
  },
  {
   "cell_type": "code",
   "execution_count": 29,
   "id": "6e5bdbf6",
   "metadata": {},
   "outputs": [],
   "source": [
    "train_df.fillna('None',inplace=True)"
   ]
  },
  {
   "cell_type": "code",
   "execution_count": 30,
   "id": "5bd11ea5",
   "metadata": {
    "scrolled": true
   },
   "outputs": [
    {
     "data": {
      "text/html": [
       "<div>\n",
       "<style scoped>\n",
       "    .dataframe tbody tr th:only-of-type {\n",
       "        vertical-align: middle;\n",
       "    }\n",
       "\n",
       "    .dataframe tbody tr th {\n",
       "        vertical-align: top;\n",
       "    }\n",
       "\n",
       "    .dataframe thead th {\n",
       "        text-align: right;\n",
       "    }\n",
       "</style>\n",
       "<table border=\"1\" class=\"dataframe\">\n",
       "  <thead>\n",
       "    <tr style=\"text-align: right;\">\n",
       "      <th></th>\n",
       "      <th>Experience</th>\n",
       "      <th>Rating</th>\n",
       "      <th>Place</th>\n",
       "      <th>Profile</th>\n",
       "      <th>Miscellaneous_Info</th>\n",
       "      <th>Fees</th>\n",
       "      <th>City</th>\n",
       "      <th>Qual_1</th>\n",
       "      <th>Qual_2</th>\n",
       "      <th>Qual_3</th>\n",
       "      <th>Qual_4</th>\n",
       "    </tr>\n",
       "  </thead>\n",
       "  <tbody>\n",
       "    <tr>\n",
       "      <th>0</th>\n",
       "      <td>24</td>\n",
       "      <td>100</td>\n",
       "      <td>Kakkanad</td>\n",
       "      <td>Homeopath</td>\n",
       "      <td>100% 16 Feedback Kakkanad, Ernakulam</td>\n",
       "      <td>100</td>\n",
       "      <td>Ernakulam</td>\n",
       "      <td>BHMS</td>\n",
       "      <td>MD</td>\n",
       "      <td>Homeopathy</td>\n",
       "      <td>None</td>\n",
       "    </tr>\n",
       "    <tr>\n",
       "      <th>1</th>\n",
       "      <td>12</td>\n",
       "      <td>98</td>\n",
       "      <td>Whitefield</td>\n",
       "      <td>Ayurveda</td>\n",
       "      <td>98% 76 Feedback Whitefield, Bangalore</td>\n",
       "      <td>350</td>\n",
       "      <td>Bangalore</td>\n",
       "      <td>BAMS</td>\n",
       "      <td>MD</td>\n",
       "      <td>Ayurveda Medicine</td>\n",
       "      <td>None</td>\n",
       "    </tr>\n",
       "    <tr>\n",
       "      <th>2</th>\n",
       "      <td>9</td>\n",
       "      <td>-99</td>\n",
       "      <td>Mathikere - BEL</td>\n",
       "      <td>ENT Specialist</td>\n",
       "      <td>None</td>\n",
       "      <td>300</td>\n",
       "      <td>Bangalore</td>\n",
       "      <td>MBBS</td>\n",
       "      <td>MS</td>\n",
       "      <td>Otorhinolaryngology</td>\n",
       "      <td>None</td>\n",
       "    </tr>\n",
       "    <tr>\n",
       "      <th>3</th>\n",
       "      <td>12</td>\n",
       "      <td>-99</td>\n",
       "      <td>Bannerghatta Road</td>\n",
       "      <td>Ayurveda</td>\n",
       "      <td>Bannerghatta Road, Bangalore ?250 Available on...</td>\n",
       "      <td>250</td>\n",
       "      <td>Bangalore</td>\n",
       "      <td>BSc</td>\n",
       "      <td>BAMS</td>\n",
       "      <td>None</td>\n",
       "      <td>Zoology</td>\n",
       "    </tr>\n",
       "    <tr>\n",
       "      <th>4</th>\n",
       "      <td>20</td>\n",
       "      <td>100</td>\n",
       "      <td>Keelkattalai</td>\n",
       "      <td>Ayurveda</td>\n",
       "      <td>100% 4 Feedback Keelkattalai, Chennai</td>\n",
       "      <td>250</td>\n",
       "      <td>Chennai</td>\n",
       "      <td>BAMS</td>\n",
       "      <td>None</td>\n",
       "      <td>None</td>\n",
       "      <td>None</td>\n",
       "    </tr>\n",
       "    <tr>\n",
       "      <th>...</th>\n",
       "      <td>...</td>\n",
       "      <td>...</td>\n",
       "      <td>...</td>\n",
       "      <td>...</td>\n",
       "      <td>...</td>\n",
       "      <td>...</td>\n",
       "      <td>...</td>\n",
       "      <td>...</td>\n",
       "      <td>...</td>\n",
       "      <td>...</td>\n",
       "      <td>...</td>\n",
       "    </tr>\n",
       "    <tr>\n",
       "      <th>5956</th>\n",
       "      <td>19</td>\n",
       "      <td>98</td>\n",
       "      <td>Basavanagudi</td>\n",
       "      <td>ENT Specialist</td>\n",
       "      <td>98% 45 Feedback Basavanagudi, Bangalore</td>\n",
       "      <td>300</td>\n",
       "      <td>Bangalore</td>\n",
       "      <td>MBBS</td>\n",
       "      <td>MS</td>\n",
       "      <td>ENT</td>\n",
       "      <td>None</td>\n",
       "    </tr>\n",
       "    <tr>\n",
       "      <th>5957</th>\n",
       "      <td>33</td>\n",
       "      <td>-99</td>\n",
       "      <td>Nungambakkam</td>\n",
       "      <td>General Medicine</td>\n",
       "      <td>None</td>\n",
       "      <td>100</td>\n",
       "      <td>Chennai</td>\n",
       "      <td>MBBS</td>\n",
       "      <td>None</td>\n",
       "      <td>None</td>\n",
       "      <td>None</td>\n",
       "    </tr>\n",
       "    <tr>\n",
       "      <th>5958</th>\n",
       "      <td>41</td>\n",
       "      <td>97</td>\n",
       "      <td>Greater Kailash Part 2</td>\n",
       "      <td>General Medicine</td>\n",
       "      <td>97% 11 Feedback Greater Kailash Part 2, Delhi</td>\n",
       "      <td>600</td>\n",
       "      <td>Delhi</td>\n",
       "      <td>MBBS</td>\n",
       "      <td>None</td>\n",
       "      <td>None</td>\n",
       "      <td>None</td>\n",
       "    </tr>\n",
       "    <tr>\n",
       "      <th>5959</th>\n",
       "      <td>15</td>\n",
       "      <td>90</td>\n",
       "      <td>Vileparle West</td>\n",
       "      <td>General Medicine</td>\n",
       "      <td>General Medical Consultation Viral Fever Treat...</td>\n",
       "      <td>100</td>\n",
       "      <td>Mumbai</td>\n",
       "      <td>MBBS</td>\n",
       "      <td>MD</td>\n",
       "      <td>General Medicine</td>\n",
       "      <td>None</td>\n",
       "    </tr>\n",
       "    <tr>\n",
       "      <th>5960</th>\n",
       "      <td>17</td>\n",
       "      <td>100</td>\n",
       "      <td>Pitampura</td>\n",
       "      <td>Dentist</td>\n",
       "      <td>Acrylic Partial Denture Crowns and Bridges Fix...</td>\n",
       "      <td>200</td>\n",
       "      <td>Delhi</td>\n",
       "      <td>BDS</td>\n",
       "      <td>MDS</td>\n",
       "      <td>Orthodontics</td>\n",
       "      <td>None</td>\n",
       "    </tr>\n",
       "  </tbody>\n",
       "</table>\n",
       "<p>5961 rows × 11 columns</p>\n",
       "</div>"
      ],
      "text/plain": [
       "      Experience  Rating                   Place           Profile  \\\n",
       "0             24     100                Kakkanad         Homeopath   \n",
       "1             12      98              Whitefield          Ayurveda   \n",
       "2              9     -99         Mathikere - BEL    ENT Specialist   \n",
       "3             12     -99       Bannerghatta Road          Ayurveda   \n",
       "4             20     100            Keelkattalai          Ayurveda   \n",
       "...          ...     ...                     ...               ...   \n",
       "5956          19      98            Basavanagudi    ENT Specialist   \n",
       "5957          33     -99            Nungambakkam  General Medicine   \n",
       "5958          41      97  Greater Kailash Part 2  General Medicine   \n",
       "5959          15      90          Vileparle West  General Medicine   \n",
       "5960          17     100               Pitampura           Dentist   \n",
       "\n",
       "                                     Miscellaneous_Info  Fees        City  \\\n",
       "0                  100% 16 Feedback Kakkanad, Ernakulam   100   Ernakulam   \n",
       "1                 98% 76 Feedback Whitefield, Bangalore   350   Bangalore   \n",
       "2                                                  None   300   Bangalore   \n",
       "3     Bannerghatta Road, Bangalore ?250 Available on...   250   Bangalore   \n",
       "4                 100% 4 Feedback Keelkattalai, Chennai   250     Chennai   \n",
       "...                                                 ...   ...         ...   \n",
       "5956            98% 45 Feedback Basavanagudi, Bangalore   300   Bangalore   \n",
       "5957                                               None   100     Chennai   \n",
       "5958      97% 11 Feedback Greater Kailash Part 2, Delhi   600       Delhi   \n",
       "5959  General Medical Consultation Viral Fever Treat...   100      Mumbai   \n",
       "5960  Acrylic Partial Denture Crowns and Bridges Fix...   200       Delhi   \n",
       "\n",
       "     Qual_1 Qual_2                Qual_3    Qual_4  \n",
       "0      BHMS    MD             Homeopathy      None  \n",
       "1      BAMS    MD      Ayurveda Medicine      None  \n",
       "2      MBBS    MS    Otorhinolaryngology      None  \n",
       "3      BSc    BAMS                  None   Zoology  \n",
       "4      BAMS   None                  None      None  \n",
       "...     ...    ...                   ...       ...  \n",
       "5956   MBBS    MS                    ENT      None  \n",
       "5957   MBBS   None                  None      None  \n",
       "5958   MBBS   None                  None      None  \n",
       "5959   MBBS    MD       General Medicine      None  \n",
       "5960    BDS   MDS           Orthodontics      None  \n",
       "\n",
       "[5961 rows x 11 columns]"
      ]
     },
     "execution_count": 30,
     "metadata": {},
     "output_type": "execute_result"
    }
   ],
   "source": [
    "train_df"
   ]
  },
  {
   "cell_type": "code",
   "execution_count": 31,
   "id": "1f442bf4",
   "metadata": {},
   "outputs": [
    {
     "data": {
      "text/plain": [
       "array(['BHMS', 'BAMS', 'MBBS', 'BSc ', 'BDS', 'BSc', 'MDS',\n",
       "       'Diploma in Dermatology', 'DM ', 'MD ', 'MDS ',\n",
       "       'Get inspired by remarkable stories of people like you', 'PhD ',\n",
       "       'MRCPS', 'MS ', 'DDVL',\n",
       "       'DHMS (Diploma in Homeopathic Medicine and Surgery)', 'GCEH',\n",
       "       'Post Graduate Diploma in Healthcare Management(PGDHM)', 'DNB ',\n",
       "       'Certification in Aesthetic Dentistry',\n",
       "       'Fellowship In Laryngology Bronchoesophagology', 'FAGE',\n",
       "       'Fellowship in Aesthetic Medicine', 'BSAM',\n",
       "       'Diploma in Family Medicine (DFM)', 'FNB ',\n",
       "       'Post Graduate Diploma in Dermotology (PGDD)',\n",
       "       'Certificate of Oral Implantology', 'Certified In Panchkarma',\n",
       "       '39 years experience', 'LCEH',\n",
       "       'Doctor of Homeopathic Medicine (HMD)',\n",
       "       'Diploma in Child Health (DCH)',\n",
       "       'Diploma in Otorhinolaryngology (DLO)',\n",
       "       'Diplomate of National Board Exam', 'MSc',\n",
       "       'Fellowship and Diplomate in Implantology from ICOI (USA)',\n",
       "       'Post Doctoral Fellowship in Diabetology',\n",
       "       'Advanced Certificate Course in Aesthetic Dentistry',\n",
       "       'Diploma in Medical Trichology', 'FCPS ', 'G.A.M.S', 'DNB', 'BUMS',\n",
       "       'Diploma in Diet and Nutrition', 'MBA ',\n",
       "       'Training in Facial Aesthetics', 'PG Diploma in Child Health',\n",
       "       'POST GRADUATE IN HOMOEOPATHY', 'Fellowship in Oral implantlogy',\n",
       "       'B.Sc', 'Post Graduate Diploma in Diabetology (PGDD)', 'M.Ch',\n",
       "       'DDV', 'Fellowship in Head & Neck Oncology Surgery', 'BEMS',\n",
       "       'MRCS (UK)',\n",
       "       'Post Graduate Diploma in Periodontics and Implantology', 'MA ',\n",
       "       'Post MD SR AIIMS', 'MPH', 'Graduate Diploma in Family Medicine',\n",
       "       'MRCPCH (UK)', 'FRCS ', 'B.Ac', 'M.D. (E.H)', 'BIMS',\n",
       "       'Diploma in Trichology ', 'DVD', 'Certificate in Dental Implants',\n",
       "       'Ayurvedic panchkarma', 'D.H.M',\n",
       "       'Member of the Royal College of Physicians',\n",
       "       'Diploma in Skin & Vinereal Disease',\n",
       "       'Post Graduate Diploma in Diabetic Education',\n",
       "       'Fellowship in Diabetology', 'MRCGP',\n",
       "       'Diploma in Naturopathy & Yogic Science (DNYT)', 'MRCP (UK)',\n",
       "       'CGO', 'PGD ND', 'M.Sc ', 'DNHE',\n",
       "       'Doctorate of Medicine in Electro Homoeopathy(MDEH)', 'FRGUHS',\n",
       "       'M. D. Hom. (Practice of Medicine)', 'FRCP',\n",
       "       'Fellowship In Clinical Cosmetology', 'Cochlear Implant Surgery',\n",
       "       'Certification of Aesthetic Dentistry & Periodontics',\n",
       "       'MD AYURVED AND YOG', 'MSc ', 'Certification Course In Diabetes',\n",
       "       'Masters Diploma in Acupressure', 'PDCC ', 'FFDRCSI', 'MD', 'DGO'],\n",
       "      dtype=object)"
      ]
     },
     "execution_count": 31,
     "metadata": {},
     "output_type": "execute_result"
    }
   ],
   "source": [
    "train_df['Qual_1'].unique()"
   ]
  },
  {
   "cell_type": "code",
   "execution_count": 32,
   "id": "178fd38d",
   "metadata": {
    "scrolled": false
   },
   "outputs": [
    {
     "data": {
      "text/plain": [
       "array([' MD ', ' MS ', ' BAMS', 'None', ' BDS', ' MS', ' MDS', ' MDS ',\n",
       "       ' Diploma in Otorhinolaryngology (DLO)', ' MF', ' DNB', ' DNB ',\n",
       "       ' Fellowship of College of General Practice (FCGP)', ' DDVL',\n",
       "       ' IBCLC (USA)', ' MBBS', ' Diploma in Cosmetology', ' AFIH',\n",
       "       ' M. D. Hom. (Practice of Medicine)',\n",
       "       ' Diploma in Emergency Medicine',\n",
       "       ' DHMS (Diploma in Homeopathic Medicine and Surgery)',\n",
       "       ' Member of the Royal College of Physicians',\n",
       "       ' Diploma In Skin Aesthetics',\n",
       "       ' Certificate in Cosmetic Dentistry', ' DDV',\n",
       "       ' Venereology & Leprosy',\n",
       "       ' Post Graduate Diploma in Emergency Services (PGDEMS)',\n",
       "       ' PGD in Endodontics', ' MOrth', ' FRCP',\n",
       "       ' Diploma in Dermatology', ' P.G Diploma in Aesthetic Dentistry',\n",
       "       ' Diploma in Health Administration',\n",
       "       ' Certificate in Dental Implants',\n",
       "       ' Post Graduate Diploma in Diabetology (PGDD)', ' M.Sc.',\n",
       "       ' MS (Shalyatantra)',\n",
       "       ' Post Graduate Diploma in Advanced Implantology',\n",
       "       ' Fellowship in Oral implantlogy',\n",
       "       ' Diploma in Personal Counselling Skills (DPCS)',\n",
       "       ' Certification in Personal Counsling', ' Fellowship In Anti',\n",
       "       ' MRCPCH (UK)', ' Diploma in Obesity managemnt',\n",
       "       ' Certificate Course In Therapeutic Yoga', ' FRGUHS',\n",
       "       ' Diploma in Medical Radio',\n",
       "       ' Certification in Full Mouth Rehabilitation',\n",
       "       ' Diploma in Acupuncture', ' MFDS RCS',\n",
       "       ' Fellowship in Minimal Access Surgery', ' DGO',\n",
       "       ' M.S. (Ayurved) Stri Roga & Prasuti Tantra', ' DVD',\n",
       "       ' Diploma in Public Health', ' BHMS', ' PhD', ' DM ',\n",
       "       ' Certificate Course in Sports and Fitness Nutrition',\n",
       "       ' Certificate in Cosmetology', ' Post Graduate Diploma In Yoga',\n",
       "       ' Diploma in Anesthesiology', ' MRCGP', ' PhD ', ' Post',\n",
       "       ' Diploma in Naturopathy & Yoga (NDDY)',\n",
       "       ' Diploma in Dermatology & Venerology', ' DPM (Psychiatry)',\n",
       "       ' Diploma in Diabetology',\n",
       "       ' Post Graduate Diploma in Clinical Research (PGDCR)', ' F.A.G.E',\n",
       "       ' Diploma In Clinical Panchakarma',\n",
       "       ' Diploma in Child Health (DCH)',\n",
       "       ' Diploma in Tuberculosis and Chest Diseases (DTCD)',\n",
       "       ' Division of Clinical Psychology (DCP)', ' FCPS ',\n",
       "       ' Masters in Counselling and Psychotherapy', ' MCP(UCLA',\n",
       "       ' M.D. (Psychiatry)', ' Diploma In Naturopathy (ND)', ' MRCP (UK)',\n",
       "       ' MBA (Health Care)',\n",
       "       ' PG Diploma In Clinical Cosmetology (PGDCC)', ' DORL (ENT)',\n",
       "       ' Ayurvedic panchkarma', ' Certification in Laser Dentistry',\n",
       "       ' Diploma in Hospital Management',\n",
       "       ' Post Graduate Diploma in Hospital & Healthcare Management',\n",
       "       ' Post Graduate Certificate in Endodontics (PGCE)',\n",
       "       ' Certification In Yoga',\n",
       "       ' Diploma in Traditional Chinese Medicine',\n",
       "       ' Diploma in Preventive & Promotive Healthcare',\n",
       "       ' Certificate Endodontics & Pedodontics', ' FRCP ',\n",
       "       ' Diploma in Implant Dentistry',\n",
       "       ' Diploma in Family Medicine (DFM)', ' P.G.Hom.(London)',\n",
       "       ' Fellowship in Cosmetology',\n",
       "       ' Certification in Aesthetic Dentistry', ' CGO', ' DO',\n",
       "       ' Diploma in Practical Dermatology',\n",
       "       ' Member of the Royal Society for the Promotion of Health (UK) (MRSH)',\n",
       "       ' MCIP', ' FCAH (Fellow ship course in Advance Homoepath)',\n",
       "       ' Certificate in Child Health (CCH)', ' BPTh/BPT', ' PGNAHI',\n",
       "       ' PG in Diabetology', ' M. D. IN KAYACHIKISTA',\n",
       "       ' Diploma in Psychiatry', ' Diploma in Panchkarma Chikitsa',\n",
       "       ' MBA (HCS)', ' Fellowship in Applied Nutrition(FAN)', ' FICD',\n",
       "       ' BNYS', ' Fellowship in Aesthetic Dentistry (FAD)',\n",
       "       ' Certificate in Dental Implantology', ' DLO',\n",
       "       ' Fellowship in Aesthetic Medicine', ' Diploma in Venereology',\n",
       "       ' B.Sc', ' MBA ',\n",
       "       ' Post Graduate Diploma in Maternity and Child Health (PGDMCH)',\n",
       "       ' PG Diploma In Health & Hospital Management',\n",
       "       ' Fellowship in Diabetology', ' Diploma in Orthopaedics',\n",
       "       ' Diploma in Laser Dentistry',\n",
       "       ' One Year Certificate course in Hospital Management ', ' MSc ',\n",
       "       ' Fellowship in Implantology',\n",
       "       ' Post Graduate Diploma in Clinical Nutrition & Dietetics',\n",
       "       ' Fellowship in Breast Surgery', ' MBA', 'VD & Leprosy',\n",
       "       ' Diploma in Clinical Nutrition',\n",
       "       ' Fellow of Academy of General Education (FAGE)',\n",
       "       ' M.Med in Family Medicine', ' DIACH(Greece)',\n",
       "       ' Diploma of the Faculty of Family Planning (DFFP)',\n",
       "       ' Post graduate diploma in Hospital Management',\n",
       "       ' Masters in Clinical Dermatology',\n",
       "       ' Diploma in Diet and Nutrition',\n",
       "       ' Post Graduate Course in Diabetology', ' BSc ', ' MNAMS ',\n",
       "       ' Post Graduate Diploma in Orthodontics', ' MRCS (UK)',\n",
       "       ' Certificate Course in Advanced Homoeopathy (C.C.A.H)',\n",
       "       ' Diploma in Tropical Medicine Health',\n",
       "       ' Comprehensive Course in Modern Endodontics',\n",
       "       ' Certificate in Health Management', ' PGCAD', ' D.Y.A', ' MRCPS',\n",
       "       ' PG Diploma In Emergency Trauma Care', ' DNHE', ' PGCR',\n",
       "       ' Diploma in Clinical Pathology',\n",
       "       ' PG Diploma in Preventive and Promotive Health Care (PGD PPHC)',\n",
       "       ' Certified Advance Course In Endodontics', ' PGDHHM', ' MCh ',\n",
       "       ' Certified Course in Yoga',\n",
       "       ' MNAMS (Membership of the National Academy)',\n",
       "       ' Post Graduate Diploma in Medicological Systems (PGDMS)',\n",
       "       ' Fellow of the Royal Australasian College of Surgeons', ' DHMS',\n",
       "       ' Advanced Endotontic Course On Root Canal',\n",
       "       ' Master In Counselling Psychology',\n",
       "       ' Post Graduate Certificate in Advanced Oral Implantology',\n",
       "       ' PG Diploma in Panchakarma', ' F.C.I.P',\n",
       "       ' Fellowship in Diabetology(Royal Liverpool Academy', ' FCD ',\n",
       "       ' Diploma in Cardiology', ' DEMS', ' MSc',\n",
       "       ' Post Graduate Diploma in Healthcare Management(PGDHM)',\n",
       "       ' Diploma in Trichology ', ' MD',\n",
       "       ' Fellowship Training in Intensive Care Medicine',\n",
       "       ' Fellowship Program in Forensic Odontology', ' MA ', ' LCEH',\n",
       "       ' Postgraduate Diploma Clinical Cardiology (PGDCC)',\n",
       "       ' Fellowship in Cardiac Rehabilitation', ' CCEDM', ' CCEBDM',\n",
       "       ' Post Graduate Diploma in Holistic Healthcare', ' Singapore',\n",
       "       ' D.Ortho Fellow Arthroscopy & Arthroplasty(AUST)',\n",
       "       ' Basic Life Support (BLS)',\n",
       "       ' Fellowship and Diplomate in Implantology from ICOI (USA)',\n",
       "       ' Advance Diploma in Nutrition and Dietetics',\n",
       "       ' PGDE (Cosmetic & Esthetic Dentist)',\n",
       "       ' Advanced Certificate in Endodontics and Esthetics', ' BEMS',\n",
       "       ' FACC', ' FAMS ', ' Certificate Course in Positive Psychology',\n",
       "       ' M.Sc ', ' Master of Family Medicine',\n",
       "       ' Certificate in Implantology', ' Diploma in Medical Cosmetology',\n",
       "       ' Diploma in Educational Psychology',\n",
       "       ' Diploma in Clinical Dermatology (UK)', ' F.S.R.H',\n",
       "       ' Diploma in Gynaecology & Obstetrics', ' MFGDP ',\n",
       "       ' Invisalign Training Course', ' Certificate in Sports Nutrition',\n",
       "       ' Post Graduate Diploma in Medical Cosmetology (PGDMC)',\n",
       "       ' Diploma in Aesthetic Dermatology',\n",
       "       ' Post Graduate Diploma in Endocrinology',\n",
       "       ' Certificate in Food and Nutrition', ' PCAD (USA)',\n",
       "       ' Diploma in ENT', ' Diploma in Cosmetic Dentistry', ' FRCS ',\n",
       "       ' PGDHA', ' Distance Fellowship in Diabetes Management',\n",
       "       ' Post Graduate Diploma in Diabetology (PGDD)(Johns Hopkins University School of Medicine',\n",
       "       ' DMD ', ' Diploma in Acupressure Therapy',\n",
       "       ' Certified BPS Dentist', ' MD (HOM) ', ' FCPS Skin & VD',\n",
       "       ' PGDMLS', ' PG Certificate Course In Diabetes Education(PGDCE)',\n",
       "       ' PGD Yoga', ' FCCP ', ' MA (Yoga Shastra)',\n",
       "       ' Master of Hospital Administration', ' UK (MRCP UK)', ' M.H.Sc',\n",
       "       ' Diploma of Nutrition & Diet Planning',\n",
       "       ' Diploma in Industrial Hygiene',\n",
       "       ' Fellowship (Endoscopic Sinus Surgery)',\n",
       "       ' Master of Public Health (MPH)',\n",
       "       ' Doctor of Homeopathic Medicine (HMD)',\n",
       "       ' Post Graduate Diploma in Health Sciences (PGDHSc)', ' PGMHA',\n",
       "       ' Certificate of Oral Implantology',\n",
       "       ' Indian Diploma Critical Care Medicine (IDCCM)',\n",
       "       ' Fellowship in Dermatological Laser Surgery', ' M. SC in YOGA',\n",
       "       ' Diploma In Pharmacy', ' DYSc.', \" Yoga Instructor's Course\",\n",
       "       ' Diploma in Diabetes', ' FPFA',\n",
       "       ' Certificate in Nutrition and Health in Hospitalized ',\n",
       "       ' Diploma in Hospital Administration',\n",
       "       ' PGDPC (Post Graduation Diploma In Psychological Counselling)',\n",
       "       ' Certificate Course in Evidence Based Diabetes Management (CCEBDM)',\n",
       "       ' MBS (H)', ' FRHS ', ' Fundamental in Oral Implantology', ' D.D',\n",
       "       ' DSM ( Siddha Medicine)', ' D.Ac', ' PGCE(Endodontics)',\n",
       "       ' Post Graduate Diploma in Health', ' DIH', ' Doctor of Medicine',\n",
       "       ' M.D. Panchakarma', ' Diploma in Dietetics',\n",
       "       ' Diplomate in Neuromuscular Functional Orthodontics And Gathology',\n",
       "       ' Certified in Orthodontics', ' PG in Diabetology (USA)',\n",
       "       ' PG Diploma Clinical Research',\n",
       "       ' Robert Turner Diabetes Research Training', ' FICOI', ' MPH',\n",
       "       ' Certification of Life Coach', ' PG ',\n",
       "       ' Certified Yoga and Pranic healing Therapist ',\n",
       "       ' Certificate in Medical Cosmetology',\n",
       "       ' Advanced Course in Cosmetology and Aesthetic Medicine',\n",
       "       ' Fellowship Cochlear Implant Training',\n",
       "       ' Post Graduate Diploma in Psychological Counseling',\n",
       "       ' Diploma in Skin Treatments (UK)',\n",
       "       ' Fellowship in Gastroenterology',\n",
       "       ' Member of the Royal College of General Practitioners UK (MRCGP)',\n",
       "       ' P.G. Diploma in Yoga & Meditation', ' Diploma in Implanthology',\n",
       "       ' Post Graduate Diploma in Sports Medicine', ' MSc. ', ' FRCSEd',\n",
       "       ' Fellowship in Endocrinology', ' Masters in Surgery (MS)',\n",
       "       ' MCEM', ' DFM (UK)',\n",
       "       ' DAT(Diploma in Accupressure and foot Reflexology)',\n",
       "       ' Diploma in Radio Therapy', ' Fellowship In Dermatosurgery',\n",
       "       ' Nutrition Certification', ' Post Graduate in Homeopathy(london)',\n",
       "       ' FIAMS', ' DTCD(Diploma in TB and Chest Dieseas)',\n",
       "       ' FDS Endodontics', ' certification in smile designing'],\n",
       "      dtype=object)"
      ]
     },
     "execution_count": 32,
     "metadata": {},
     "output_type": "execute_result"
    }
   ],
   "source": [
    "train_df['Qual_2'].unique()"
   ]
  },
  {
   "cell_type": "code",
   "execution_count": 33,
   "id": "ce2a11c0",
   "metadata": {},
   "outputs": [
    {
     "data": {
      "text/plain": [
       "array([' Homeopathy', ' Ayurveda Medicine', ' Otorhinolaryngology',\n",
       "       'None', ' General Medicine', ' Oral & Maxillofacial Surgery',\n",
       "       ' ENT', ' Pediatrics', ' Prosthodontist And Crown Bridge',\n",
       "       ' Dermatology ', ' Oral and Maxillofacial Pathology',\n",
       "       ' Psychology', ' Dermatology', ' Rheumatology',\n",
       "       ' Paedodontics And Preventive Dentistry',\n",
       "       ' Conservative Dentistry & Endodontics', ' Acupuncture',\n",
       "       ' Periodontology and Oral Implantology', ' Periodontics',\n",
       "       ' Pedodontics', ' Ayurveda',\n",
       "       ' Tuberculosis & Respiratory Diseases/Medicine', ' Skin & VD',\n",
       "       ' Internal Medicine', ' Family Medicine', ' Pediatric',\n",
       "       ' Prosthodontics', ' Clinical Nutrition and Dietetics',\n",
       "       ' Alternate Medicine', ' General Surgery',\n",
       "       'Aging And Aesthetic Medicine', ' Oral Medicine and Radiology',\n",
       "       'Diagnosis', ' Pathology', ' Medicine',\n",
       "       ' Orthodontics and Dentofacial Orthopaedics',\n",
       "       ' Critical Care Medicine', ' Public Health Dentistry',\n",
       "       ' Orthodontics & Dentofacial Orthopaedics', ' Microbiology',\n",
       "       'Graduate Certificate in Oral Implantology (PGCOI)',\n",
       "       ' Pharmacology', ' Endocrinology & Diabetes', ' Oncology', 'USA)',\n",
       "       ' Orthodontics', ' Dermatology & Venereology', ' Paediatrics',\n",
       "       ' Endocrinology', ' Community Medicine',\n",
       "       ' Peripheral Vascular Surgery', ' Homoeopathic Philosophy',\n",
       "       'Oral Pathology and Oral Microbiology',\n",
       "       ' Counselling and Psychotherapy', ' Pulmonary Medicine',\n",
       "       ' Diabetology', ' Cardiology',\n",
       "       ' Clinical Neuroscience (Pediatrics)', ' Anaesthesiology',\n",
       "       ' Healthcare Administration', ' Hospital Management',\n",
       "       ' Ophthalmology', ' Skin', ' Oral Pathology',\n",
       "       ' Ayurvedic General Surgery', ' Yoga and Rehab',\n",
       "       ' Orthodontics and Orofacial Orthopaedics',\n",
       "       ' Counselling & Psychotherapy', ' Opthalmology',\n",
       "       ' Kayachikitsalaya', ' Zoology', ' Obstetrics & Gynaecology',\n",
       "       ' Homeopathy Psychiatry', ' Urology', ' (Dermatology & STD)',\n",
       "       ' Endodontics', ' Neuro Surgery', ' Psychotherapy And Counselling',\n",
       "       ' Orthopaedics', ' Forensic Odontology',\n",
       "       ' Hospital Administration', ' Physician', ' Cosmetology',\n",
       "       ' Dravya Guna', ' Periodontist & Implantalogist', ' Repertory',\n",
       "       ' Obstetrics & Gynecology', ' Clinical Dermatology',\n",
       "       ' Fellowship of the Academy Medicine',\n",
       "       ' Counselling and Family Therapy', ' Root Canal Specialist',\n",
       "       ' Preventive & Community Dentistry', ' Nephrology',\n",
       "       ' Prosthodontist & Oral Implantologist', ' Homeo Organon',\n",
       "       ' Membership of the Faculty of General Dental Practitioners',\n",
       "       ' Ayurvedic Pharmacology', ' Physical Medicine & Rehabilitation',\n",
       "       ' Acupressure', ' Diabetes', ' Otolaryngology',\n",
       "       ' Doctor of Dental Medicine', ' Paeditrics',\n",
       "       ' Oral Pathalogy & Microbiology', ' Yoga',\n",
       "       ' Tuberculosis & Respiratory Diseases / Pulmonary Medicine',\n",
       "       ' Oral Medicine', ' Orthopedics/Orthopedic Surgery', ' Oto',\n",
       "       'Diabetology', ' Pulmonary Medicine & Critical Care Medicine',\n",
       "       ' Ayurvedic Gynecology & Obstetrics', ' Neurology', ' TB & Chest',\n",
       "       ' Gastroenterology', ' Radio Diagnosis/Radiology',\n",
       "       ' Transfusion Medicine', ' Ayurvedic Ophthalmology', ' Physiology',\n",
       "       ' Otrohinolaryngology', ' Master of Oral Implantology (MOI)',\n",
       "       ' Homeo', ' Radiotherapy', ' Geriatrics', 'Ayurvedic Vachaspati',\n",
       "       ' Dermatology Skills and Treatment (University of Hertfordshire)',\n",
       "       ' Applied Psychology', ' (Medicine ', ' Radiation Oncology',\n",
       "       ' Operative Dentistry'], dtype=object)"
      ]
     },
     "execution_count": 33,
     "metadata": {},
     "output_type": "execute_result"
    }
   ],
   "source": [
    "train_df['Qual_3'].unique()"
   ]
  },
  {
   "cell_type": "code",
   "execution_count": 34,
   "id": "d4fcc5d1",
   "metadata": {
    "scrolled": false
   },
   "outputs": [
    {
     "data": {
      "text/plain": [
       "array(['None', ' Zoology', ' Neurology', ' Homeopathy',\n",
       "       ' Prosthodontist And Crown Bridge',\n",
       "       ' Oral & Maxillofacial Surgery',\n",
       "       ' Periodontology and Oral Implantology', ' Dermatology',\n",
       "       'Oral Pathology and Oral Microbiology', ' Dermatology ',\n",
       "       ' Orthodontics & Dentofacial Orthopaedics',\n",
       "       ' Conservative Dentistry & Endodontics', ' Ayurveda Medicine',\n",
       "       ' General Surgery', ' General Medicine', ' ENT',\n",
       "       ' Internal Medicine', ' Otorhinolaryngology', ' Paediatrics',\n",
       "       ' Ayurvedic Gynecology & Obstetrics', ' Skin & VD',\n",
       "       ' Periodontics', ' Infectious Disease',\n",
       "       ' Dermatology & Venereology', ' Neuropsychology', ' Pedodontics',\n",
       "       ' Orthodontics and Dentofacial Orthopaedics', ' Anaesthesiology',\n",
       "       ' Prosthodontics', ' Orthodontics', ' Ayurvedic Pharmacology',\n",
       "       ' Ayurvedic Obstetrics and Gynecology',\n",
       "       ' Paedodontics And Preventive Dentistry', ' Medicine',\n",
       "       ' Physician', ' Skin', ' Oral Medicine and Radiology',\n",
       "       ' Cardiology', ' Hospital Management', ' Ayurveda',\n",
       "       ' Orthopaedics',\n",
       "       ' Oral & Maxillofacial Pathology and Microbiology',\n",
       "       ' Urology/Genito ', ' Anatomy', ' Psychology',\n",
       "       ' Orthopedics/Orthopedic Surgery', ' Pulmonary Medicine',\n",
       "       ' Cosmetology', ' Oral Pathology', ' Alternate Medicine',\n",
       "       ' Preventive and Public Health Dentistry', ' Biochemistry',\n",
       "       ' Social & Preventive Medicine / Community Medicine',\n",
       "       ' Otolaryngology', ' Homeopathy Psychiatry',\n",
       "       ' Public Health Dentistry', ' Oral Medicine', ' Endocrinology(UK)',\n",
       "       ' Pediatric Endocrinology', ' CCM', ' Acupuncture', 'DVL'],\n",
       "      dtype=object)"
      ]
     },
     "execution_count": 34,
     "metadata": {},
     "output_type": "execute_result"
    }
   ],
   "source": [
    "train_df['Qual_4'].unique()"
   ]
  },
  {
   "cell_type": "markdown",
   "id": "2d68b887",
   "metadata": {},
   "source": [
    "##### visualization Tech"
   ]
  },
  {
   "cell_type": "code",
   "execution_count": 35,
   "id": "52513b28",
   "metadata": {},
   "outputs": [
    {
     "data": {
      "text/plain": [
       "0"
      ]
     },
     "execution_count": 35,
     "metadata": {},
     "output_type": "execute_result"
    }
   ],
   "source": [
    "train_df['Fees'].isnull().sum()"
   ]
  },
  {
   "cell_type": "code",
   "execution_count": 36,
   "id": "272690a1",
   "metadata": {},
   "outputs": [
    {
     "data": {
      "text/plain": [
       "<AxesSubplot:>"
      ]
     },
     "execution_count": 36,
     "metadata": {},
     "output_type": "execute_result"
    },
    {
     "data": {
      "image/png": "[encoded data removed]",
      "text/plain": [
       "<Figure size 432x288 with 2 Axes>"
      ]
     },
     "metadata": {
      "needs_background": "light"
     },
     "output_type": "display_data"
    }
   ],
   "source": [
    "#### check null vlaue \n",
    "sns.heatmap(train_df.isnull())"
   ]
  },
  {
   "cell_type": "code",
   "execution_count": 37,
   "id": "5fcaf6da",
   "metadata": {},
   "outputs": [
    {
     "data": {
      "text/plain": [
       "<AxesSubplot:xlabel='Experience', ylabel='count'>"
      ]
     },
     "execution_count": 37,
     "metadata": {},
     "output_type": "execute_result"
    },
    {
     "data": {
      "image/png": "[encoded data removed]",
      "text/plain": [
       "<Figure size 1584x864 with 1 Axes>"
      ]
     },
     "metadata": {
      "needs_background": "light"
     },
     "output_type": "display_data"
    }
   ],
   "source": [
    "##### count plot to see the fess with experience\n",
    "plt.figure(figsize=(22,12))\n",
    "sns.countplot(x='Experience',hue='Fees',data=train_df)"
   ]
  },
  {
   "cell_type": "code",
   "execution_count": 38,
   "id": "961f3104",
   "metadata": {},
   "outputs": [
    {
     "data": {
      "text/plain": [
       "<AxesSubplot:xlabel='Experience', ylabel='Fees'>"
      ]
     },
     "execution_count": 38,
     "metadata": {},
     "output_type": "execute_result"
    },
    {
     "data": {
      "image/png": "[encoded data removed]",
      "text/plain": [
       "<Figure size 432x288 with 1 Axes>"
      ]
     },
     "metadata": {
      "needs_background": "light"
     },
     "output_type": "display_data"
    }
   ],
   "source": [
    "sns.scatterplot(x='Experience',y='Fees',data=train_df)"
   ]
  },
  {
   "cell_type": "code",
   "execution_count": 39,
   "id": "d07f7cc3",
   "metadata": {},
   "outputs": [],
   "source": [
    "#### Good Relationship with fess is showing in data set"
   ]
  },
  {
   "cell_type": "code",
   "execution_count": 40,
   "id": "7956aeaf",
   "metadata": {},
   "outputs": [
    {
     "data": {
      "text/plain": [
       "<AxesSubplot:xlabel='Rating', ylabel='count'>"
      ]
     },
     "execution_count": 40,
     "metadata": {},
     "output_type": "execute_result"
    },
    {
     "data": {
      "image/png": "[encoded data removed]",
      "text/plain": [
       "<Figure size 1944x864 with 1 Axes>"
      ]
     },
     "metadata": {
      "needs_background": "light"
     },
     "output_type": "display_data"
    }
   ],
   "source": [
    "plt.figure(figsize=(27,12))\n",
    "sns.countplot(x='Rating',hue='Fees',data=train_df)"
   ]
  },
  {
   "cell_type": "code",
   "execution_count": 41,
   "id": "60a65307",
   "metadata": {},
   "outputs": [
    {
     "data": {
      "text/plain": [
       "<AxesSubplot:xlabel='Rating', ylabel='Fees'>"
      ]
     },
     "execution_count": 41,
     "metadata": {},
     "output_type": "execute_result"
    },
    {
     "data": {
      "image/png": "[encoded data removed]",
      "text/plain": [
       "<Figure size 432x288 with 1 Axes>"
      ]
     },
     "metadata": {
      "needs_background": "light"
     },
     "output_type": "display_data"
    }
   ],
   "source": [
    "sns.scatterplot(x='Rating',y='Fees',data=train_df)"
   ]
  },
  {
   "cell_type": "code",
   "execution_count": 42,
   "id": "a17ee3e5",
   "metadata": {},
   "outputs": [],
   "source": [
    "##### rating between 75 and 100 have good fees showing in chart"
   ]
  },
  {
   "cell_type": "code",
   "execution_count": 43,
   "id": "c3359509",
   "metadata": {},
   "outputs": [
    {
     "data": {
      "text/plain": [
       "Index(['Experience', 'Rating', 'Place', 'Profile', 'Miscellaneous_Info',\n",
       "       'Fees', 'City', 'Qual_1', 'Qual_2', 'Qual_3', 'Qual_4'],\n",
       "      dtype='object')"
      ]
     },
     "execution_count": 43,
     "metadata": {},
     "output_type": "execute_result"
    }
   ],
   "source": [
    "train_df.columns"
   ]
  },
  {
   "cell_type": "code",
   "execution_count": 44,
   "id": "3b048cae",
   "metadata": {},
   "outputs": [
    {
     "data": {
      "text/plain": [
       "<AxesSubplot:xlabel='City', ylabel='count'>"
      ]
     },
     "execution_count": 44,
     "metadata": {},
     "output_type": "execute_result"
    },
    {
     "data": {
      "image/png": "[encoded data removed]",
      "text/plain": [
       "<Figure size 1584x864 with 1 Axes>"
      ]
     },
     "metadata": {
      "needs_background": "light"
     },
     "output_type": "display_data"
    }
   ],
   "source": [
    "plt.figure(figsize=(22,12))\n",
    "sns.countplot(x='City',hue='Experience',data=train_df)"
   ]
  },
  {
   "cell_type": "code",
   "execution_count": 45,
   "id": "201a8d8f",
   "metadata": {},
   "outputs": [],
   "source": [
    "##### Banglore ,Chennai,Mumbai have height experience doter having experience like  8,9 and More"
   ]
  },
  {
   "cell_type": "code",
   "execution_count": 46,
   "id": "ab769201",
   "metadata": {},
   "outputs": [
    {
     "data": {
      "text/plain": [
       "<AxesSubplot:xlabel='Experience', ylabel='City'>"
      ]
     },
     "execution_count": 46,
     "metadata": {},
     "output_type": "execute_result"
    },
    {
     "data": {
      "image/png": "[encoded data removed]",
      "text/plain": [
       "<Figure size 432x288 with 1 Axes>"
      ]
     },
     "metadata": {
      "needs_background": "light"
     },
     "output_type": "display_data"
    }
   ],
   "source": [
    "sns.scatterplot(x='Experience',y='City',data=train_df)"
   ]
  },
  {
   "cell_type": "code",
   "execution_count": 47,
   "id": "f2078f64",
   "metadata": {},
   "outputs": [
    {
     "data": {
      "text/plain": [
       "<seaborn.axisgrid.PairGrid at 0x255fa5a86d0>"
      ]
     },
     "execution_count": 47,
     "metadata": {},
     "output_type": "execute_result"
    },
    {
     "data": {
      "image/png": "[encoded data removed]",
      "text/plain": [
       "<Figure size 540x540 with 12 Axes>"
      ]
     },
     "metadata": {
      "needs_background": "light"
     },
     "output_type": "display_data"
    }
   ],
   "source": [
    "sns.pairplot(train_df)"
   ]
  },
  {
   "cell_type": "code",
   "execution_count": 48,
   "id": "40bf3ba8",
   "metadata": {},
   "outputs": [],
   "source": [
    "##### experience with fess having good relationship between each other"
   ]
  },
  {
   "cell_type": "code",
   "execution_count": 49,
   "id": "f6ab7115",
   "metadata": {},
   "outputs": [
    {
     "data": {
      "text/plain": [
       "Experience             int32\n",
       "Rating                 int32\n",
       "Place                 object\n",
       "Profile               object\n",
       "Miscellaneous_Info    object\n",
       "Fees                   int64\n",
       "City                  object\n",
       "Qual_1                object\n",
       "Qual_2                object\n",
       "Qual_3                object\n",
       "Qual_4                object\n",
       "dtype: object"
      ]
     },
     "execution_count": 49,
     "metadata": {},
     "output_type": "execute_result"
    }
   ],
   "source": [
    "#### see the statistical information like data types of columns prerset in dataset\n",
    "train_df.dtypes"
   ]
  },
  {
   "cell_type": "code",
   "execution_count": 50,
   "id": "94abfe08",
   "metadata": {},
   "outputs": [],
   "source": [
    "#### Object type columns are in catagorical form have to solve the problem"
   ]
  },
  {
   "cell_type": "code",
   "execution_count": 51,
   "id": "6886de71",
   "metadata": {},
   "outputs": [
    {
     "data": {
      "text/html": [
       "<div>\n",
       "<style scoped>\n",
       "    .dataframe tbody tr th:only-of-type {\n",
       "        vertical-align: middle;\n",
       "    }\n",
       "\n",
       "    .dataframe tbody tr th {\n",
       "        vertical-align: top;\n",
       "    }\n",
       "\n",
       "    .dataframe thead th {\n",
       "        text-align: right;\n",
       "    }\n",
       "</style>\n",
       "<table border=\"1\" class=\"dataframe\">\n",
       "  <thead>\n",
       "    <tr style=\"text-align: right;\">\n",
       "      <th></th>\n",
       "      <th>Experience</th>\n",
       "      <th>Rating</th>\n",
       "      <th>Fees</th>\n",
       "    </tr>\n",
       "  </thead>\n",
       "  <tbody>\n",
       "    <tr>\n",
       "      <th>count</th>\n",
       "      <td>5961.000000</td>\n",
       "      <td>5961.000000</td>\n",
       "      <td>5961.000000</td>\n",
       "    </tr>\n",
       "    <tr>\n",
       "      <th>mean</th>\n",
       "      <td>17.303976</td>\n",
       "      <td>-12.622211</td>\n",
       "      <td>307.944640</td>\n",
       "    </tr>\n",
       "    <tr>\n",
       "      <th>std</th>\n",
       "      <td>11.142798</td>\n",
       "      <td>96.407619</td>\n",
       "      <td>190.920373</td>\n",
       "    </tr>\n",
       "    <tr>\n",
       "      <th>min</th>\n",
       "      <td>0.000000</td>\n",
       "      <td>-99.000000</td>\n",
       "      <td>5.000000</td>\n",
       "    </tr>\n",
       "    <tr>\n",
       "      <th>25%</th>\n",
       "      <td>9.000000</td>\n",
       "      <td>-99.000000</td>\n",
       "      <td>150.000000</td>\n",
       "    </tr>\n",
       "    <tr>\n",
       "      <th>50%</th>\n",
       "      <td>14.000000</td>\n",
       "      <td>-99.000000</td>\n",
       "      <td>300.000000</td>\n",
       "    </tr>\n",
       "    <tr>\n",
       "      <th>75%</th>\n",
       "      <td>23.000000</td>\n",
       "      <td>96.000000</td>\n",
       "      <td>500.000000</td>\n",
       "    </tr>\n",
       "    <tr>\n",
       "      <th>max</th>\n",
       "      <td>66.000000</td>\n",
       "      <td>100.000000</td>\n",
       "      <td>950.000000</td>\n",
       "    </tr>\n",
       "  </tbody>\n",
       "</table>\n",
       "</div>"
      ],
      "text/plain": [
       "        Experience       Rating         Fees\n",
       "count  5961.000000  5961.000000  5961.000000\n",
       "mean     17.303976   -12.622211   307.944640\n",
       "std      11.142798    96.407619   190.920373\n",
       "min       0.000000   -99.000000     5.000000\n",
       "25%       9.000000   -99.000000   150.000000\n",
       "50%      14.000000   -99.000000   300.000000\n",
       "75%      23.000000    96.000000   500.000000\n",
       "max      66.000000   100.000000   950.000000"
      ]
     },
     "execution_count": 51,
     "metadata": {},
     "output_type": "execute_result"
    }
   ],
   "source": [
    "#### check the statstical  summary\n",
    "train_df.describe()"
   ]
  },
  {
   "cell_type": "code",
   "execution_count": 52,
   "id": "031956d7",
   "metadata": {},
   "outputs": [
    {
     "data": {
      "text/plain": [
       "<AxesSubplot:xlabel='Experience'>"
      ]
     },
     "execution_count": 52,
     "metadata": {},
     "output_type": "execute_result"
    },
    {
     "data": {
      "image/png": "[encoded data removed]",
      "text/plain": [
       "<Figure size 432x288 with 1 Axes>"
      ]
     },
     "metadata": {
      "needs_background": "light"
     },
     "output_type": "display_data"
    }
   ],
   "source": [
    "sns.boxplot(train_df['Experience'])"
   ]
  },
  {
   "cell_type": "code",
   "execution_count": 53,
   "id": "10de650c",
   "metadata": {},
   "outputs": [],
   "source": [
    "##### presence of outliers is showing"
   ]
  },
  {
   "cell_type": "code",
   "execution_count": null,
   "id": "fdbf87c8",
   "metadata": {},
   "outputs": [],
   "source": []
  },
  {
   "cell_type": "code",
   "execution_count": 54,
   "id": "fbc9cd6c",
   "metadata": {},
   "outputs": [
    {
     "data": {
      "text/plain": [
       "<AxesSubplot:xlabel='Rating'>"
      ]
     },
     "execution_count": 54,
     "metadata": {},
     "output_type": "execute_result"
    },
    {
     "data": {
      "image/png": "[encoded data removed]",
      "text/plain": [
       "<Figure size 432x288 with 1 Axes>"
      ]
     },
     "metadata": {
      "needs_background": "light"
     },
     "output_type": "display_data"
    }
   ],
   "source": [
    "sns.boxplot(train_df['Rating'])"
   ]
  },
  {
   "cell_type": "code",
   "execution_count": 55,
   "id": "cd38f133",
   "metadata": {},
   "outputs": [
    {
     "data": {
      "text/plain": [
       "Experience    0.991089\n",
       "Rating        0.225184\n",
       "Fees          0.751870\n",
       "dtype: float64"
      ]
     },
     "execution_count": 55,
     "metadata": {},
     "output_type": "execute_result"
    }
   ],
   "source": [
    "##### check the skewness\n",
    "train_df.skew()"
   ]
  },
  {
   "cell_type": "code",
   "execution_count": 56,
   "id": "ceb8d113",
   "metadata": {},
   "outputs": [
    {
     "data": {
      "text/plain": [
       "<AxesSubplot:xlabel='Experience', ylabel='Density'>"
      ]
     },
     "execution_count": 56,
     "metadata": {},
     "output_type": "execute_result"
    },
    {
     "data": {
      "image/png": "[encoded data removed]",
      "text/plain": [
       "<Figure size 432x288 with 1 Axes>"
      ]
     },
     "metadata": {
      "needs_background": "light"
     },
     "output_type": "display_data"
    }
   ],
   "source": [
    "sns.kdeplot(train_df['Experience']) "
   ]
  },
  {
   "cell_type": "code",
   "execution_count": 57,
   "id": "25e4237d",
   "metadata": {},
   "outputs": [],
   "source": [
    "##### Right Skewness in dataset"
   ]
  },
  {
   "cell_type": "code",
   "execution_count": 58,
   "id": "9e4a9e5b",
   "metadata": {},
   "outputs": [
    {
     "data": {
      "text/plain": [
       "<AxesSubplot:xlabel='Rating', ylabel='Density'>"
      ]
     },
     "execution_count": 58,
     "metadata": {},
     "output_type": "execute_result"
    },
    {
     "data": {
      "image/png": "[encoded data removed]",
      "text/plain": [
       "<Figure size 432x288 with 1 Axes>"
      ]
     },
     "metadata": {
      "needs_background": "light"
     },
     "output_type": "display_data"
    }
   ],
   "source": [
    "sns.kdeplot(train_df['Rating'])"
   ]
  },
  {
   "cell_type": "code",
   "execution_count": 59,
   "id": "af2c71b9",
   "metadata": {},
   "outputs": [],
   "source": [
    "quantile1=train_df.quantile(0.25)"
   ]
  },
  {
   "cell_type": "code",
   "execution_count": 60,
   "id": "e6fbd180",
   "metadata": {},
   "outputs": [],
   "source": [
    "quantile3=train_df.quantile(0.75)"
   ]
  },
  {
   "cell_type": "code",
   "execution_count": 61,
   "id": "4a097e9a",
   "metadata": {},
   "outputs": [
    {
     "data": {
      "text/plain": [
       "Experience     14.0\n",
       "Rating        195.0\n",
       "Fees          350.0\n",
       "dtype: float64"
      ]
     },
     "execution_count": 61,
     "metadata": {},
     "output_type": "execute_result"
    }
   ],
   "source": [
    "iqr_val=quantile3-quantile1\n",
    "iqr_val\n"
   ]
  },
  {
   "cell_type": "code",
   "execution_count": null,
   "id": "02d446b1",
   "metadata": {},
   "outputs": [],
   "source": []
  },
  {
   "cell_type": "code",
   "execution_count": null,
   "id": "0763552f",
   "metadata": {},
   "outputs": [],
   "source": []
  },
  {
   "cell_type": "code",
   "execution_count": 62,
   "id": "15304571",
   "metadata": {},
   "outputs": [],
   "source": [
    "lower_limit=quantile1-(1.5*iqr_val)\n",
    "upper_limit=quantile3+(1.5*iqr_val)"
   ]
  },
  {
   "cell_type": "code",
   "execution_count": 63,
   "id": "e5db4b9e",
   "metadata": {},
   "outputs": [],
   "source": [
    "quant1 =train_df['Experience'].quantile(.98)"
   ]
  },
  {
   "cell_type": "code",
   "execution_count": 64,
   "id": "65038062",
   "metadata": {},
   "outputs": [
    {
     "data": {
      "text/plain": [
       "<AxesSubplot:xlabel='Experience', ylabel='Density'>"
      ]
     },
     "execution_count": 64,
     "metadata": {},
     "output_type": "execute_result"
    },
    {
     "data": {
      "image/png": "[encoded data removed]",
      "text/plain": [
       "<Figure size 432x288 with 1 Axes>"
      ]
     },
     "metadata": {
      "needs_background": "light"
     },
     "output_type": "display_data"
    }
   ],
   "source": [
    "new = train_df['Experience'][train_df['Experience'] < quant1]\n",
    "sns.kdeplot(new)"
   ]
  },
  {
   "cell_type": "code",
   "execution_count": 65,
   "id": "9107c7d8",
   "metadata": {
    "scrolled": false
   },
   "outputs": [
    {
     "name": "stdout",
     "output_type": "stream",
     "text": [
      "(5961, 11)\n"
     ]
    }
   ],
   "source": [
    "df=train_df[train_df['Experience']<quant1]\n",
    "print(train_df.shape)"
   ]
  },
  {
   "cell_type": "code",
   "execution_count": 66,
   "id": "362306f1",
   "metadata": {},
   "outputs": [],
   "source": [
    "from scipy import stats"
   ]
  },
  {
   "cell_type": "code",
   "execution_count": 67,
   "id": "282a61b7",
   "metadata": {},
   "outputs": [],
   "source": [
    "#train_df.skew()"
   ]
  },
  {
   "cell_type": "code",
   "execution_count": 68,
   "id": "0d815a22",
   "metadata": {},
   "outputs": [],
   "source": [
    "#train_df['Experience']=np.cbrt(train_df['Experience'])"
   ]
  },
  {
   "cell_type": "code",
   "execution_count": 69,
   "id": "46c44553",
   "metadata": {},
   "outputs": [
    {
     "data": {
      "text/plain": [
       "<AxesSubplot:>"
      ]
     },
     "execution_count": 69,
     "metadata": {},
     "output_type": "execute_result"
    },
    {
     "data": {
      "image/png": "[encoded data removed]",
      "text/plain": [
       "<Figure size 432x288 with 2 Axes>"
      ]
     },
     "metadata": {
      "needs_background": "light"
     },
     "output_type": "display_data"
    }
   ],
   "source": [
    "sns.heatmap(train_df.corr(),annot=True)"
   ]
  },
  {
   "cell_type": "code",
   "execution_count": 70,
   "id": "5c1d1b40",
   "metadata": {},
   "outputs": [],
   "source": [
    "#### Rating with fess having good co relation "
   ]
  },
  {
   "cell_type": "code",
   "execution_count": 71,
   "id": "dd669be1",
   "metadata": {},
   "outputs": [
    {
     "data": {
      "text/html": [
       "<div>\n",
       "<style scoped>\n",
       "    .dataframe tbody tr th:only-of-type {\n",
       "        vertical-align: middle;\n",
       "    }\n",
       "\n",
       "    .dataframe tbody tr th {\n",
       "        vertical-align: top;\n",
       "    }\n",
       "\n",
       "    .dataframe thead th {\n",
       "        text-align: right;\n",
       "    }\n",
       "</style>\n",
       "<table border=\"1\" class=\"dataframe\">\n",
       "  <thead>\n",
       "    <tr style=\"text-align: right;\">\n",
       "      <th></th>\n",
       "      <th>Experience</th>\n",
       "      <th>Rating</th>\n",
       "      <th>Place</th>\n",
       "      <th>Profile</th>\n",
       "      <th>Miscellaneous_Info</th>\n",
       "      <th>Fees</th>\n",
       "      <th>City</th>\n",
       "      <th>Qual_1</th>\n",
       "      <th>Qual_2</th>\n",
       "      <th>Qual_3</th>\n",
       "      <th>Qual_4</th>\n",
       "    </tr>\n",
       "  </thead>\n",
       "  <tbody>\n",
       "    <tr>\n",
       "      <th>0</th>\n",
       "      <td>24</td>\n",
       "      <td>100</td>\n",
       "      <td>Kakkanad</td>\n",
       "      <td>Homeopath</td>\n",
       "      <td>100% 16 Feedback Kakkanad, Ernakulam</td>\n",
       "      <td>100</td>\n",
       "      <td>Ernakulam</td>\n",
       "      <td>BHMS</td>\n",
       "      <td>MD</td>\n",
       "      <td>Homeopathy</td>\n",
       "      <td>None</td>\n",
       "    </tr>\n",
       "    <tr>\n",
       "      <th>1</th>\n",
       "      <td>12</td>\n",
       "      <td>98</td>\n",
       "      <td>Whitefield</td>\n",
       "      <td>Ayurveda</td>\n",
       "      <td>98% 76 Feedback Whitefield, Bangalore</td>\n",
       "      <td>350</td>\n",
       "      <td>Bangalore</td>\n",
       "      <td>BAMS</td>\n",
       "      <td>MD</td>\n",
       "      <td>Ayurveda Medicine</td>\n",
       "      <td>None</td>\n",
       "    </tr>\n",
       "    <tr>\n",
       "      <th>2</th>\n",
       "      <td>9</td>\n",
       "      <td>-99</td>\n",
       "      <td>Mathikere - BEL</td>\n",
       "      <td>ENT Specialist</td>\n",
       "      <td>None</td>\n",
       "      <td>300</td>\n",
       "      <td>Bangalore</td>\n",
       "      <td>MBBS</td>\n",
       "      <td>MS</td>\n",
       "      <td>Otorhinolaryngology</td>\n",
       "      <td>None</td>\n",
       "    </tr>\n",
       "    <tr>\n",
       "      <th>3</th>\n",
       "      <td>12</td>\n",
       "      <td>-99</td>\n",
       "      <td>Bannerghatta Road</td>\n",
       "      <td>Ayurveda</td>\n",
       "      <td>Bannerghatta Road, Bangalore ?250 Available on...</td>\n",
       "      <td>250</td>\n",
       "      <td>Bangalore</td>\n",
       "      <td>BSc</td>\n",
       "      <td>BAMS</td>\n",
       "      <td>None</td>\n",
       "      <td>Zoology</td>\n",
       "    </tr>\n",
       "    <tr>\n",
       "      <th>4</th>\n",
       "      <td>20</td>\n",
       "      <td>100</td>\n",
       "      <td>Keelkattalai</td>\n",
       "      <td>Ayurveda</td>\n",
       "      <td>100% 4 Feedback Keelkattalai, Chennai</td>\n",
       "      <td>250</td>\n",
       "      <td>Chennai</td>\n",
       "      <td>BAMS</td>\n",
       "      <td>None</td>\n",
       "      <td>None</td>\n",
       "      <td>None</td>\n",
       "    </tr>\n",
       "    <tr>\n",
       "      <th>...</th>\n",
       "      <td>...</td>\n",
       "      <td>...</td>\n",
       "      <td>...</td>\n",
       "      <td>...</td>\n",
       "      <td>...</td>\n",
       "      <td>...</td>\n",
       "      <td>...</td>\n",
       "      <td>...</td>\n",
       "      <td>...</td>\n",
       "      <td>...</td>\n",
       "      <td>...</td>\n",
       "    </tr>\n",
       "    <tr>\n",
       "      <th>5956</th>\n",
       "      <td>19</td>\n",
       "      <td>98</td>\n",
       "      <td>Basavanagudi</td>\n",
       "      <td>ENT Specialist</td>\n",
       "      <td>98% 45 Feedback Basavanagudi, Bangalore</td>\n",
       "      <td>300</td>\n",
       "      <td>Bangalore</td>\n",
       "      <td>MBBS</td>\n",
       "      <td>MS</td>\n",
       "      <td>ENT</td>\n",
       "      <td>None</td>\n",
       "    </tr>\n",
       "    <tr>\n",
       "      <th>5957</th>\n",
       "      <td>33</td>\n",
       "      <td>-99</td>\n",
       "      <td>Nungambakkam</td>\n",
       "      <td>General Medicine</td>\n",
       "      <td>None</td>\n",
       "      <td>100</td>\n",
       "      <td>Chennai</td>\n",
       "      <td>MBBS</td>\n",
       "      <td>None</td>\n",
       "      <td>None</td>\n",
       "      <td>None</td>\n",
       "    </tr>\n",
       "    <tr>\n",
       "      <th>5958</th>\n",
       "      <td>41</td>\n",
       "      <td>97</td>\n",
       "      <td>Greater Kailash Part 2</td>\n",
       "      <td>General Medicine</td>\n",
       "      <td>97% 11 Feedback Greater Kailash Part 2, Delhi</td>\n",
       "      <td>600</td>\n",
       "      <td>Delhi</td>\n",
       "      <td>MBBS</td>\n",
       "      <td>None</td>\n",
       "      <td>None</td>\n",
       "      <td>None</td>\n",
       "    </tr>\n",
       "    <tr>\n",
       "      <th>5959</th>\n",
       "      <td>15</td>\n",
       "      <td>90</td>\n",
       "      <td>Vileparle West</td>\n",
       "      <td>General Medicine</td>\n",
       "      <td>General Medical Consultation Viral Fever Treat...</td>\n",
       "      <td>100</td>\n",
       "      <td>Mumbai</td>\n",
       "      <td>MBBS</td>\n",
       "      <td>MD</td>\n",
       "      <td>General Medicine</td>\n",
       "      <td>None</td>\n",
       "    </tr>\n",
       "    <tr>\n",
       "      <th>5960</th>\n",
       "      <td>17</td>\n",
       "      <td>100</td>\n",
       "      <td>Pitampura</td>\n",
       "      <td>Dentist</td>\n",
       "      <td>Acrylic Partial Denture Crowns and Bridges Fix...</td>\n",
       "      <td>200</td>\n",
       "      <td>Delhi</td>\n",
       "      <td>BDS</td>\n",
       "      <td>MDS</td>\n",
       "      <td>Orthodontics</td>\n",
       "      <td>None</td>\n",
       "    </tr>\n",
       "  </tbody>\n",
       "</table>\n",
       "<p>5961 rows × 11 columns</p>\n",
       "</div>"
      ],
      "text/plain": [
       "      Experience  Rating                   Place           Profile  \\\n",
       "0             24     100                Kakkanad         Homeopath   \n",
       "1             12      98              Whitefield          Ayurveda   \n",
       "2              9     -99         Mathikere - BEL    ENT Specialist   \n",
       "3             12     -99       Bannerghatta Road          Ayurveda   \n",
       "4             20     100            Keelkattalai          Ayurveda   \n",
       "...          ...     ...                     ...               ...   \n",
       "5956          19      98            Basavanagudi    ENT Specialist   \n",
       "5957          33     -99            Nungambakkam  General Medicine   \n",
       "5958          41      97  Greater Kailash Part 2  General Medicine   \n",
       "5959          15      90          Vileparle West  General Medicine   \n",
       "5960          17     100               Pitampura           Dentist   \n",
       "\n",
       "                                     Miscellaneous_Info  Fees        City  \\\n",
       "0                  100% 16 Feedback Kakkanad, Ernakulam   100   Ernakulam   \n",
       "1                 98% 76 Feedback Whitefield, Bangalore   350   Bangalore   \n",
       "2                                                  None   300   Bangalore   \n",
       "3     Bannerghatta Road, Bangalore ?250 Available on...   250   Bangalore   \n",
       "4                 100% 4 Feedback Keelkattalai, Chennai   250     Chennai   \n",
       "...                                                 ...   ...         ...   \n",
       "5956            98% 45 Feedback Basavanagudi, Bangalore   300   Bangalore   \n",
       "5957                                               None   100     Chennai   \n",
       "5958      97% 11 Feedback Greater Kailash Part 2, Delhi   600       Delhi   \n",
       "5959  General Medical Consultation Viral Fever Treat...   100      Mumbai   \n",
       "5960  Acrylic Partial Denture Crowns and Bridges Fix...   200       Delhi   \n",
       "\n",
       "     Qual_1 Qual_2                Qual_3    Qual_4  \n",
       "0      BHMS    MD             Homeopathy      None  \n",
       "1      BAMS    MD      Ayurveda Medicine      None  \n",
       "2      MBBS    MS    Otorhinolaryngology      None  \n",
       "3      BSc    BAMS                  None   Zoology  \n",
       "4      BAMS   None                  None      None  \n",
       "...     ...    ...                   ...       ...  \n",
       "5956   MBBS    MS                    ENT      None  \n",
       "5957   MBBS   None                  None      None  \n",
       "5958   MBBS   None                  None      None  \n",
       "5959   MBBS    MD       General Medicine      None  \n",
       "5960    BDS   MDS           Orthodontics      None  \n",
       "\n",
       "[5961 rows x 11 columns]"
      ]
     },
     "execution_count": 71,
     "metadata": {},
     "output_type": "execute_result"
    }
   ],
   "source": [
    "train_df"
   ]
  },
  {
   "cell_type": "code",
   "execution_count": 72,
   "id": "8f4b70c3",
   "metadata": {},
   "outputs": [],
   "source": [
    "train_df.drop(['Miscellaneous_Info'],axis=1,inplace=True)"
   ]
  },
  {
   "cell_type": "code",
   "execution_count": 73,
   "id": "3bf75838",
   "metadata": {},
   "outputs": [
    {
     "data": {
      "text/html": [
       "<div>\n",
       "<style scoped>\n",
       "    .dataframe tbody tr th:only-of-type {\n",
       "        vertical-align: middle;\n",
       "    }\n",
       "\n",
       "    .dataframe tbody tr th {\n",
       "        vertical-align: top;\n",
       "    }\n",
       "\n",
       "    .dataframe thead th {\n",
       "        text-align: right;\n",
       "    }\n",
       "</style>\n",
       "<table border=\"1\" class=\"dataframe\">\n",
       "  <thead>\n",
       "    <tr style=\"text-align: right;\">\n",
       "      <th></th>\n",
       "      <th>Experience</th>\n",
       "      <th>Rating</th>\n",
       "      <th>Place</th>\n",
       "      <th>Profile</th>\n",
       "      <th>Fees</th>\n",
       "      <th>City</th>\n",
       "      <th>Qual_1</th>\n",
       "      <th>Qual_2</th>\n",
       "      <th>Qual_3</th>\n",
       "      <th>Qual_4</th>\n",
       "    </tr>\n",
       "  </thead>\n",
       "  <tbody>\n",
       "    <tr>\n",
       "      <th>0</th>\n",
       "      <td>24</td>\n",
       "      <td>100</td>\n",
       "      <td>Kakkanad</td>\n",
       "      <td>Homeopath</td>\n",
       "      <td>100</td>\n",
       "      <td>Ernakulam</td>\n",
       "      <td>BHMS</td>\n",
       "      <td>MD</td>\n",
       "      <td>Homeopathy</td>\n",
       "      <td>None</td>\n",
       "    </tr>\n",
       "    <tr>\n",
       "      <th>1</th>\n",
       "      <td>12</td>\n",
       "      <td>98</td>\n",
       "      <td>Whitefield</td>\n",
       "      <td>Ayurveda</td>\n",
       "      <td>350</td>\n",
       "      <td>Bangalore</td>\n",
       "      <td>BAMS</td>\n",
       "      <td>MD</td>\n",
       "      <td>Ayurveda Medicine</td>\n",
       "      <td>None</td>\n",
       "    </tr>\n",
       "    <tr>\n",
       "      <th>2</th>\n",
       "      <td>9</td>\n",
       "      <td>-99</td>\n",
       "      <td>Mathikere - BEL</td>\n",
       "      <td>ENT Specialist</td>\n",
       "      <td>300</td>\n",
       "      <td>Bangalore</td>\n",
       "      <td>MBBS</td>\n",
       "      <td>MS</td>\n",
       "      <td>Otorhinolaryngology</td>\n",
       "      <td>None</td>\n",
       "    </tr>\n",
       "    <tr>\n",
       "      <th>3</th>\n",
       "      <td>12</td>\n",
       "      <td>-99</td>\n",
       "      <td>Bannerghatta Road</td>\n",
       "      <td>Ayurveda</td>\n",
       "      <td>250</td>\n",
       "      <td>Bangalore</td>\n",
       "      <td>BSc</td>\n",
       "      <td>BAMS</td>\n",
       "      <td>None</td>\n",
       "      <td>Zoology</td>\n",
       "    </tr>\n",
       "    <tr>\n",
       "      <th>4</th>\n",
       "      <td>20</td>\n",
       "      <td>100</td>\n",
       "      <td>Keelkattalai</td>\n",
       "      <td>Ayurveda</td>\n",
       "      <td>250</td>\n",
       "      <td>Chennai</td>\n",
       "      <td>BAMS</td>\n",
       "      <td>None</td>\n",
       "      <td>None</td>\n",
       "      <td>None</td>\n",
       "    </tr>\n",
       "    <tr>\n",
       "      <th>...</th>\n",
       "      <td>...</td>\n",
       "      <td>...</td>\n",
       "      <td>...</td>\n",
       "      <td>...</td>\n",
       "      <td>...</td>\n",
       "      <td>...</td>\n",
       "      <td>...</td>\n",
       "      <td>...</td>\n",
       "      <td>...</td>\n",
       "      <td>...</td>\n",
       "    </tr>\n",
       "    <tr>\n",
       "      <th>5956</th>\n",
       "      <td>19</td>\n",
       "      <td>98</td>\n",
       "      <td>Basavanagudi</td>\n",
       "      <td>ENT Specialist</td>\n",
       "      <td>300</td>\n",
       "      <td>Bangalore</td>\n",
       "      <td>MBBS</td>\n",
       "      <td>MS</td>\n",
       "      <td>ENT</td>\n",
       "      <td>None</td>\n",
       "    </tr>\n",
       "    <tr>\n",
       "      <th>5957</th>\n",
       "      <td>33</td>\n",
       "      <td>-99</td>\n",
       "      <td>Nungambakkam</td>\n",
       "      <td>General Medicine</td>\n",
       "      <td>100</td>\n",
       "      <td>Chennai</td>\n",
       "      <td>MBBS</td>\n",
       "      <td>None</td>\n",
       "      <td>None</td>\n",
       "      <td>None</td>\n",
       "    </tr>\n",
       "    <tr>\n",
       "      <th>5958</th>\n",
       "      <td>41</td>\n",
       "      <td>97</td>\n",
       "      <td>Greater Kailash Part 2</td>\n",
       "      <td>General Medicine</td>\n",
       "      <td>600</td>\n",
       "      <td>Delhi</td>\n",
       "      <td>MBBS</td>\n",
       "      <td>None</td>\n",
       "      <td>None</td>\n",
       "      <td>None</td>\n",
       "    </tr>\n",
       "    <tr>\n",
       "      <th>5959</th>\n",
       "      <td>15</td>\n",
       "      <td>90</td>\n",
       "      <td>Vileparle West</td>\n",
       "      <td>General Medicine</td>\n",
       "      <td>100</td>\n",
       "      <td>Mumbai</td>\n",
       "      <td>MBBS</td>\n",
       "      <td>MD</td>\n",
       "      <td>General Medicine</td>\n",
       "      <td>None</td>\n",
       "    </tr>\n",
       "    <tr>\n",
       "      <th>5960</th>\n",
       "      <td>17</td>\n",
       "      <td>100</td>\n",
       "      <td>Pitampura</td>\n",
       "      <td>Dentist</td>\n",
       "      <td>200</td>\n",
       "      <td>Delhi</td>\n",
       "      <td>BDS</td>\n",
       "      <td>MDS</td>\n",
       "      <td>Orthodontics</td>\n",
       "      <td>None</td>\n",
       "    </tr>\n",
       "  </tbody>\n",
       "</table>\n",
       "<p>5961 rows × 10 columns</p>\n",
       "</div>"
      ],
      "text/plain": [
       "      Experience  Rating                   Place           Profile  Fees  \\\n",
       "0             24     100                Kakkanad         Homeopath   100   \n",
       "1             12      98              Whitefield          Ayurveda   350   \n",
       "2              9     -99         Mathikere - BEL    ENT Specialist   300   \n",
       "3             12     -99       Bannerghatta Road          Ayurveda   250   \n",
       "4             20     100            Keelkattalai          Ayurveda   250   \n",
       "...          ...     ...                     ...               ...   ...   \n",
       "5956          19      98            Basavanagudi    ENT Specialist   300   \n",
       "5957          33     -99            Nungambakkam  General Medicine   100   \n",
       "5958          41      97  Greater Kailash Part 2  General Medicine   600   \n",
       "5959          15      90          Vileparle West  General Medicine   100   \n",
       "5960          17     100               Pitampura           Dentist   200   \n",
       "\n",
       "            City Qual_1 Qual_2                Qual_3    Qual_4  \n",
       "0      Ernakulam   BHMS    MD             Homeopathy      None  \n",
       "1      Bangalore   BAMS    MD      Ayurveda Medicine      None  \n",
       "2      Bangalore   MBBS    MS    Otorhinolaryngology      None  \n",
       "3      Bangalore   BSc    BAMS                  None   Zoology  \n",
       "4        Chennai   BAMS   None                  None      None  \n",
       "...          ...    ...    ...                   ...       ...  \n",
       "5956   Bangalore   MBBS    MS                    ENT      None  \n",
       "5957     Chennai   MBBS   None                  None      None  \n",
       "5958       Delhi   MBBS   None                  None      None  \n",
       "5959      Mumbai   MBBS    MD       General Medicine      None  \n",
       "5960       Delhi    BDS   MDS           Orthodontics      None  \n",
       "\n",
       "[5961 rows x 10 columns]"
      ]
     },
     "execution_count": 73,
     "metadata": {},
     "output_type": "execute_result"
    }
   ],
   "source": [
    "train_df"
   ]
  },
  {
   "cell_type": "code",
   "execution_count": 74,
   "id": "4da04d08",
   "metadata": {},
   "outputs": [],
   "source": [
    "from sklearn.preprocessing import LabelEncoder"
   ]
  },
  {
   "cell_type": "code",
   "execution_count": 75,
   "id": "8ab4ab37",
   "metadata": {},
   "outputs": [],
   "source": [
    "le=LabelEncoder()"
   ]
  },
  {
   "cell_type": "code",
   "execution_count": 76,
   "id": "46340af8",
   "metadata": {},
   "outputs": [],
   "source": [
    "train_df['Place']=le.fit_transform(train_df['Place'])"
   ]
  },
  {
   "cell_type": "code",
   "execution_count": 77,
   "id": "55dc308a",
   "metadata": {},
   "outputs": [
    {
     "data": {
      "text/html": [
       "<div>\n",
       "<style scoped>\n",
       "    .dataframe tbody tr th:only-of-type {\n",
       "        vertical-align: middle;\n",
       "    }\n",
       "\n",
       "    .dataframe tbody tr th {\n",
       "        vertical-align: top;\n",
       "    }\n",
       "\n",
       "    .dataframe thead th {\n",
       "        text-align: right;\n",
       "    }\n",
       "</style>\n",
       "<table border=\"1\" class=\"dataframe\">\n",
       "  <thead>\n",
       "    <tr style=\"text-align: right;\">\n",
       "      <th></th>\n",
       "      <th>Experience</th>\n",
       "      <th>Rating</th>\n",
       "      <th>Place</th>\n",
       "      <th>Profile</th>\n",
       "      <th>Fees</th>\n",
       "      <th>City</th>\n",
       "      <th>Qual_1</th>\n",
       "      <th>Qual_2</th>\n",
       "      <th>Qual_3</th>\n",
       "      <th>Qual_4</th>\n",
       "    </tr>\n",
       "  </thead>\n",
       "  <tbody>\n",
       "    <tr>\n",
       "      <th>0</th>\n",
       "      <td>24</td>\n",
       "      <td>100</td>\n",
       "      <td>296</td>\n",
       "      <td>Homeopath</td>\n",
       "      <td>100</td>\n",
       "      <td>Ernakulam</td>\n",
       "      <td>BHMS</td>\n",
       "      <td>MD</td>\n",
       "      <td>Homeopathy</td>\n",
       "      <td>None</td>\n",
       "    </tr>\n",
       "    <tr>\n",
       "      <th>1</th>\n",
       "      <td>12</td>\n",
       "      <td>98</td>\n",
       "      <td>856</td>\n",
       "      <td>Ayurveda</td>\n",
       "      <td>350</td>\n",
       "      <td>Bangalore</td>\n",
       "      <td>BAMS</td>\n",
       "      <td>MD</td>\n",
       "      <td>Ayurveda Medicine</td>\n",
       "      <td>None</td>\n",
       "    </tr>\n",
       "    <tr>\n",
       "      <th>2</th>\n",
       "      <td>9</td>\n",
       "      <td>-99</td>\n",
       "      <td>452</td>\n",
       "      <td>ENT Specialist</td>\n",
       "      <td>300</td>\n",
       "      <td>Bangalore</td>\n",
       "      <td>MBBS</td>\n",
       "      <td>MS</td>\n",
       "      <td>Otorhinolaryngology</td>\n",
       "      <td>None</td>\n",
       "    </tr>\n",
       "    <tr>\n",
       "      <th>3</th>\n",
       "      <td>12</td>\n",
       "      <td>-99</td>\n",
       "      <td>68</td>\n",
       "      <td>Ayurveda</td>\n",
       "      <td>250</td>\n",
       "      <td>Bangalore</td>\n",
       "      <td>BSc</td>\n",
       "      <td>BAMS</td>\n",
       "      <td>None</td>\n",
       "      <td>Zoology</td>\n",
       "    </tr>\n",
       "    <tr>\n",
       "      <th>4</th>\n",
       "      <td>20</td>\n",
       "      <td>100</td>\n",
       "      <td>335</td>\n",
       "      <td>Ayurveda</td>\n",
       "      <td>250</td>\n",
       "      <td>Chennai</td>\n",
       "      <td>BAMS</td>\n",
       "      <td>None</td>\n",
       "      <td>None</td>\n",
       "      <td>None</td>\n",
       "    </tr>\n",
       "    <tr>\n",
       "      <th>...</th>\n",
       "      <td>...</td>\n",
       "      <td>...</td>\n",
       "      <td>...</td>\n",
       "      <td>...</td>\n",
       "      <td>...</td>\n",
       "      <td>...</td>\n",
       "      <td>...</td>\n",
       "      <td>...</td>\n",
       "      <td>...</td>\n",
       "      <td>...</td>\n",
       "    </tr>\n",
       "    <tr>\n",
       "      <th>5956</th>\n",
       "      <td>19</td>\n",
       "      <td>98</td>\n",
       "      <td>70</td>\n",
       "      <td>ENT Specialist</td>\n",
       "      <td>300</td>\n",
       "      <td>Bangalore</td>\n",
       "      <td>MBBS</td>\n",
       "      <td>MS</td>\n",
       "      <td>ENT</td>\n",
       "      <td>None</td>\n",
       "    </tr>\n",
       "    <tr>\n",
       "      <th>5957</th>\n",
       "      <td>33</td>\n",
       "      <td>-99</td>\n",
       "      <td>536</td>\n",
       "      <td>General Medicine</td>\n",
       "      <td>100</td>\n",
       "      <td>Chennai</td>\n",
       "      <td>MBBS</td>\n",
       "      <td>None</td>\n",
       "      <td>None</td>\n",
       "      <td>None</td>\n",
       "    </tr>\n",
       "    <tr>\n",
       "      <th>5958</th>\n",
       "      <td>41</td>\n",
       "      <td>97</td>\n",
       "      <td>215</td>\n",
       "      <td>General Medicine</td>\n",
       "      <td>600</td>\n",
       "      <td>Delhi</td>\n",
       "      <td>MBBS</td>\n",
       "      <td>None</td>\n",
       "      <td>None</td>\n",
       "      <td>None</td>\n",
       "    </tr>\n",
       "    <tr>\n",
       "      <th>5959</th>\n",
       "      <td>15</td>\n",
       "      <td>90</td>\n",
       "      <td>841</td>\n",
       "      <td>General Medicine</td>\n",
       "      <td>100</td>\n",
       "      <td>Mumbai</td>\n",
       "      <td>MBBS</td>\n",
       "      <td>MD</td>\n",
       "      <td>General Medicine</td>\n",
       "      <td>None</td>\n",
       "    </tr>\n",
       "    <tr>\n",
       "      <th>5960</th>\n",
       "      <td>17</td>\n",
       "      <td>100</td>\n",
       "      <td>598</td>\n",
       "      <td>Dentist</td>\n",
       "      <td>200</td>\n",
       "      <td>Delhi</td>\n",
       "      <td>BDS</td>\n",
       "      <td>MDS</td>\n",
       "      <td>Orthodontics</td>\n",
       "      <td>None</td>\n",
       "    </tr>\n",
       "  </tbody>\n",
       "</table>\n",
       "<p>5961 rows × 10 columns</p>\n",
       "</div>"
      ],
      "text/plain": [
       "      Experience  Rating  Place           Profile  Fees        City Qual_1  \\\n",
       "0             24     100    296         Homeopath   100   Ernakulam   BHMS   \n",
       "1             12      98    856          Ayurveda   350   Bangalore   BAMS   \n",
       "2              9     -99    452    ENT Specialist   300   Bangalore   MBBS   \n",
       "3             12     -99     68          Ayurveda   250   Bangalore   BSc    \n",
       "4             20     100    335          Ayurveda   250     Chennai   BAMS   \n",
       "...          ...     ...    ...               ...   ...         ...    ...   \n",
       "5956          19      98     70    ENT Specialist   300   Bangalore   MBBS   \n",
       "5957          33     -99    536  General Medicine   100     Chennai   MBBS   \n",
       "5958          41      97    215  General Medicine   600       Delhi   MBBS   \n",
       "5959          15      90    841  General Medicine   100      Mumbai   MBBS   \n",
       "5960          17     100    598           Dentist   200       Delhi    BDS   \n",
       "\n",
       "     Qual_2                Qual_3    Qual_4  \n",
       "0       MD             Homeopathy      None  \n",
       "1       MD      Ayurveda Medicine      None  \n",
       "2       MS    Otorhinolaryngology      None  \n",
       "3      BAMS                  None   Zoology  \n",
       "4      None                  None      None  \n",
       "...     ...                   ...       ...  \n",
       "5956    MS                    ENT      None  \n",
       "5957   None                  None      None  \n",
       "5958   None                  None      None  \n",
       "5959    MD       General Medicine      None  \n",
       "5960   MDS           Orthodontics      None  \n",
       "\n",
       "[5961 rows x 10 columns]"
      ]
     },
     "execution_count": 77,
     "metadata": {},
     "output_type": "execute_result"
    }
   ],
   "source": [
    "train_df"
   ]
  },
  {
   "cell_type": "code",
   "execution_count": 78,
   "id": "85b8e3a3",
   "metadata": {},
   "outputs": [],
   "source": [
    "train_df['Profile']=le.fit_transform(train_df['Profile'])"
   ]
  },
  {
   "cell_type": "code",
   "execution_count": 79,
   "id": "9a0d8e7f",
   "metadata": {},
   "outputs": [],
   "source": [
    "train_df['Qual_1']=le.fit_transform(train_df['Qual_1'])\n",
    "train_df['Qual_2']=le.fit_transform(train_df['Qual_2'])\n",
    "train_df['Qual_3']=le.fit_transform(train_df['Qual_3'])\n",
    "train_df['Qual_4']=le.fit_transform(train_df['Qual_4'])"
   ]
  },
  {
   "cell_type": "code",
   "execution_count": 80,
   "id": "36e71dc7",
   "metadata": {},
   "outputs": [],
   "source": [
    "train_df_City=pd.get_dummies(train_df['City'])"
   ]
  },
  {
   "cell_type": "code",
   "execution_count": 81,
   "id": "81f8dcf3",
   "metadata": {},
   "outputs": [
    {
     "data": {
      "text/html": [
       "<div>\n",
       "<style scoped>\n",
       "    .dataframe tbody tr th:only-of-type {\n",
       "        vertical-align: middle;\n",
       "    }\n",
       "\n",
       "    .dataframe tbody tr th {\n",
       "        vertical-align: top;\n",
       "    }\n",
       "\n",
       "    .dataframe thead th {\n",
       "        text-align: right;\n",
       "    }\n",
       "</style>\n",
       "<table border=\"1\" class=\"dataframe\">\n",
       "  <thead>\n",
       "    <tr style=\"text-align: right;\">\n",
       "      <th></th>\n",
       "      <th>Bangalore</th>\n",
       "      <th>Chennai</th>\n",
       "      <th>Coimbatore</th>\n",
       "      <th>Delhi</th>\n",
       "      <th>Ernakulam</th>\n",
       "      <th>Hyderabad</th>\n",
       "      <th>Mumbai</th>\n",
       "      <th>Thiruvananthapuram</th>\n",
       "      <th>None</th>\n",
       "      <th>e</th>\n",
       "    </tr>\n",
       "  </thead>\n",
       "  <tbody>\n",
       "    <tr>\n",
       "      <th>0</th>\n",
       "      <td>0</td>\n",
       "      <td>0</td>\n",
       "      <td>0</td>\n",
       "      <td>0</td>\n",
       "      <td>1</td>\n",
       "      <td>0</td>\n",
       "      <td>0</td>\n",
       "      <td>0</td>\n",
       "      <td>0</td>\n",
       "      <td>0</td>\n",
       "    </tr>\n",
       "    <tr>\n",
       "      <th>1</th>\n",
       "      <td>1</td>\n",
       "      <td>0</td>\n",
       "      <td>0</td>\n",
       "      <td>0</td>\n",
       "      <td>0</td>\n",
       "      <td>0</td>\n",
       "      <td>0</td>\n",
       "      <td>0</td>\n",
       "      <td>0</td>\n",
       "      <td>0</td>\n",
       "    </tr>\n",
       "    <tr>\n",
       "      <th>2</th>\n",
       "      <td>1</td>\n",
       "      <td>0</td>\n",
       "      <td>0</td>\n",
       "      <td>0</td>\n",
       "      <td>0</td>\n",
       "      <td>0</td>\n",
       "      <td>0</td>\n",
       "      <td>0</td>\n",
       "      <td>0</td>\n",
       "      <td>0</td>\n",
       "    </tr>\n",
       "    <tr>\n",
       "      <th>3</th>\n",
       "      <td>1</td>\n",
       "      <td>0</td>\n",
       "      <td>0</td>\n",
       "      <td>0</td>\n",
       "      <td>0</td>\n",
       "      <td>0</td>\n",
       "      <td>0</td>\n",
       "      <td>0</td>\n",
       "      <td>0</td>\n",
       "      <td>0</td>\n",
       "    </tr>\n",
       "    <tr>\n",
       "      <th>4</th>\n",
       "      <td>0</td>\n",
       "      <td>1</td>\n",
       "      <td>0</td>\n",
       "      <td>0</td>\n",
       "      <td>0</td>\n",
       "      <td>0</td>\n",
       "      <td>0</td>\n",
       "      <td>0</td>\n",
       "      <td>0</td>\n",
       "      <td>0</td>\n",
       "    </tr>\n",
       "    <tr>\n",
       "      <th>...</th>\n",
       "      <td>...</td>\n",
       "      <td>...</td>\n",
       "      <td>...</td>\n",
       "      <td>...</td>\n",
       "      <td>...</td>\n",
       "      <td>...</td>\n",
       "      <td>...</td>\n",
       "      <td>...</td>\n",
       "      <td>...</td>\n",
       "      <td>...</td>\n",
       "    </tr>\n",
       "    <tr>\n",
       "      <th>5956</th>\n",
       "      <td>1</td>\n",
       "      <td>0</td>\n",
       "      <td>0</td>\n",
       "      <td>0</td>\n",
       "      <td>0</td>\n",
       "      <td>0</td>\n",
       "      <td>0</td>\n",
       "      <td>0</td>\n",
       "      <td>0</td>\n",
       "      <td>0</td>\n",
       "    </tr>\n",
       "    <tr>\n",
       "      <th>5957</th>\n",
       "      <td>0</td>\n",
       "      <td>1</td>\n",
       "      <td>0</td>\n",
       "      <td>0</td>\n",
       "      <td>0</td>\n",
       "      <td>0</td>\n",
       "      <td>0</td>\n",
       "      <td>0</td>\n",
       "      <td>0</td>\n",
       "      <td>0</td>\n",
       "    </tr>\n",
       "    <tr>\n",
       "      <th>5958</th>\n",
       "      <td>0</td>\n",
       "      <td>0</td>\n",
       "      <td>0</td>\n",
       "      <td>1</td>\n",
       "      <td>0</td>\n",
       "      <td>0</td>\n",
       "      <td>0</td>\n",
       "      <td>0</td>\n",
       "      <td>0</td>\n",
       "      <td>0</td>\n",
       "    </tr>\n",
       "    <tr>\n",
       "      <th>5959</th>\n",
       "      <td>0</td>\n",
       "      <td>0</td>\n",
       "      <td>0</td>\n",
       "      <td>0</td>\n",
       "      <td>0</td>\n",
       "      <td>0</td>\n",
       "      <td>1</td>\n",
       "      <td>0</td>\n",
       "      <td>0</td>\n",
       "      <td>0</td>\n",
       "    </tr>\n",
       "    <tr>\n",
       "      <th>5960</th>\n",
       "      <td>0</td>\n",
       "      <td>0</td>\n",
       "      <td>0</td>\n",
       "      <td>1</td>\n",
       "      <td>0</td>\n",
       "      <td>0</td>\n",
       "      <td>0</td>\n",
       "      <td>0</td>\n",
       "      <td>0</td>\n",
       "      <td>0</td>\n",
       "    </tr>\n",
       "  </tbody>\n",
       "</table>\n",
       "<p>5961 rows × 10 columns</p>\n",
       "</div>"
      ],
      "text/plain": [
       "       Bangalore   Chennai   Coimbatore   Delhi   Ernakulam   Hyderabad  \\\n",
       "0              0         0            0       0           1           0   \n",
       "1              1         0            0       0           0           0   \n",
       "2              1         0            0       0           0           0   \n",
       "3              1         0            0       0           0           0   \n",
       "4              0         1            0       0           0           0   \n",
       "...          ...       ...          ...     ...         ...         ...   \n",
       "5956           1         0            0       0           0           0   \n",
       "5957           0         1            0       0           0           0   \n",
       "5958           0         0            0       1           0           0   \n",
       "5959           0         0            0       0           0           0   \n",
       "5960           0         0            0       1           0           0   \n",
       "\n",
       "       Mumbai   Thiruvananthapuram  None  e  \n",
       "0           0                    0     0  0  \n",
       "1           0                    0     0  0  \n",
       "2           0                    0     0  0  \n",
       "3           0                    0     0  0  \n",
       "4           0                    0     0  0  \n",
       "...       ...                  ...   ... ..  \n",
       "5956        0                    0     0  0  \n",
       "5957        0                    0     0  0  \n",
       "5958        0                    0     0  0  \n",
       "5959        1                    0     0  0  \n",
       "5960        0                    0     0  0  \n",
       "\n",
       "[5961 rows x 10 columns]"
      ]
     },
     "execution_count": 81,
     "metadata": {},
     "output_type": "execute_result"
    }
   ],
   "source": [
    "train_df_City"
   ]
  },
  {
   "cell_type": "code",
   "execution_count": 82,
   "id": "4ebeb5da",
   "metadata": {},
   "outputs": [],
   "source": [
    "train_df=train_df.join(train_df_City)"
   ]
  },
  {
   "cell_type": "code",
   "execution_count": 83,
   "id": "a74f0b67",
   "metadata": {},
   "outputs": [],
   "source": [
    "train_df.drop(['City'],axis=1,inplace=True)"
   ]
  },
  {
   "cell_type": "code",
   "execution_count": 84,
   "id": "39fc6783",
   "metadata": {},
   "outputs": [
    {
     "data": {
      "text/html": [
       "<div>\n",
       "<style scoped>\n",
       "    .dataframe tbody tr th:only-of-type {\n",
       "        vertical-align: middle;\n",
       "    }\n",
       "\n",
       "    .dataframe tbody tr th {\n",
       "        vertical-align: top;\n",
       "    }\n",
       "\n",
       "    .dataframe thead th {\n",
       "        text-align: right;\n",
       "    }\n",
       "</style>\n",
       "<table border=\"1\" class=\"dataframe\">\n",
       "  <thead>\n",
       "    <tr style=\"text-align: right;\">\n",
       "      <th></th>\n",
       "      <th>Experience</th>\n",
       "      <th>Rating</th>\n",
       "      <th>Place</th>\n",
       "      <th>Profile</th>\n",
       "      <th>Fees</th>\n",
       "      <th>Qual_1</th>\n",
       "      <th>Qual_2</th>\n",
       "      <th>Qual_3</th>\n",
       "      <th>Qual_4</th>\n",
       "      <th>Bangalore</th>\n",
       "      <th>Chennai</th>\n",
       "      <th>Coimbatore</th>\n",
       "      <th>Delhi</th>\n",
       "      <th>Ernakulam</th>\n",
       "      <th>Hyderabad</th>\n",
       "      <th>Mumbai</th>\n",
       "      <th>Thiruvananthapuram</th>\n",
       "      <th>None</th>\n",
       "      <th>e</th>\n",
       "    </tr>\n",
       "  </thead>\n",
       "  <tbody>\n",
       "    <tr>\n",
       "      <th>0</th>\n",
       "      <td>24</td>\n",
       "      <td>100</td>\n",
       "      <td>296</td>\n",
       "      <td>5</td>\n",
       "      <td>100</td>\n",
       "      <td>8</td>\n",
       "      <td>207</td>\n",
       "      <td>46</td>\n",
       "      <td>60</td>\n",
       "      <td>0</td>\n",
       "      <td>0</td>\n",
       "      <td>0</td>\n",
       "      <td>0</td>\n",
       "      <td>1</td>\n",
       "      <td>0</td>\n",
       "      <td>0</td>\n",
       "      <td>0</td>\n",
       "      <td>0</td>\n",
       "      <td>0</td>\n",
       "    </tr>\n",
       "    <tr>\n",
       "      <th>1</th>\n",
       "      <td>12</td>\n",
       "      <td>98</td>\n",
       "      <td>856</td>\n",
       "      <td>0</td>\n",
       "      <td>350</td>\n",
       "      <td>5</td>\n",
       "      <td>207</td>\n",
       "      <td>8</td>\n",
       "      <td>60</td>\n",
       "      <td>1</td>\n",
       "      <td>0</td>\n",
       "      <td>0</td>\n",
       "      <td>0</td>\n",
       "      <td>0</td>\n",
       "      <td>0</td>\n",
       "      <td>0</td>\n",
       "      <td>0</td>\n",
       "      <td>0</td>\n",
       "      <td>0</td>\n",
       "    </tr>\n",
       "    <tr>\n",
       "      <th>2</th>\n",
       "      <td>9</td>\n",
       "      <td>-99</td>\n",
       "      <td>452</td>\n",
       "      <td>3</td>\n",
       "      <td>300</td>\n",
       "      <td>69</td>\n",
       "      <td>224</td>\n",
       "      <td>80</td>\n",
       "      <td>60</td>\n",
       "      <td>1</td>\n",
       "      <td>0</td>\n",
       "      <td>0</td>\n",
       "      <td>0</td>\n",
       "      <td>0</td>\n",
       "      <td>0</td>\n",
       "      <td>0</td>\n",
       "      <td>0</td>\n",
       "      <td>0</td>\n",
       "      <td>0</td>\n",
       "    </tr>\n",
       "    <tr>\n",
       "      <th>3</th>\n",
       "      <td>12</td>\n",
       "      <td>-99</td>\n",
       "      <td>68</td>\n",
       "      <td>0</td>\n",
       "      <td>250</td>\n",
       "      <td>12</td>\n",
       "      <td>7</td>\n",
       "      <td>127</td>\n",
       "      <td>58</td>\n",
       "      <td>1</td>\n",
       "      <td>0</td>\n",
       "      <td>0</td>\n",
       "      <td>0</td>\n",
       "      <td>0</td>\n",
       "      <td>0</td>\n",
       "      <td>0</td>\n",
       "      <td>0</td>\n",
       "      <td>0</td>\n",
       "      <td>0</td>\n",
       "    </tr>\n",
       "    <tr>\n",
       "      <th>4</th>\n",
       "      <td>20</td>\n",
       "      <td>100</td>\n",
       "      <td>335</td>\n",
       "      <td>0</td>\n",
       "      <td>250</td>\n",
       "      <td>5</td>\n",
       "      <td>301</td>\n",
       "      <td>127</td>\n",
       "      <td>60</td>\n",
       "      <td>0</td>\n",
       "      <td>1</td>\n",
       "      <td>0</td>\n",
       "      <td>0</td>\n",
       "      <td>0</td>\n",
       "      <td>0</td>\n",
       "      <td>0</td>\n",
       "      <td>0</td>\n",
       "      <td>0</td>\n",
       "      <td>0</td>\n",
       "    </tr>\n",
       "    <tr>\n",
       "      <th>...</th>\n",
       "      <td>...</td>\n",
       "      <td>...</td>\n",
       "      <td>...</td>\n",
       "      <td>...</td>\n",
       "      <td>...</td>\n",
       "      <td>...</td>\n",
       "      <td>...</td>\n",
       "      <td>...</td>\n",
       "      <td>...</td>\n",
       "      <td>...</td>\n",
       "      <td>...</td>\n",
       "      <td>...</td>\n",
       "      <td>...</td>\n",
       "      <td>...</td>\n",
       "      <td>...</td>\n",
       "      <td>...</td>\n",
       "      <td>...</td>\n",
       "      <td>...</td>\n",
       "      <td>...</td>\n",
       "    </tr>\n",
       "    <tr>\n",
       "      <th>5956</th>\n",
       "      <td>19</td>\n",
       "      <td>98</td>\n",
       "      <td>70</td>\n",
       "      <td>3</td>\n",
       "      <td>300</td>\n",
       "      <td>69</td>\n",
       "      <td>224</td>\n",
       "      <td>32</td>\n",
       "      <td>60</td>\n",
       "      <td>1</td>\n",
       "      <td>0</td>\n",
       "      <td>0</td>\n",
       "      <td>0</td>\n",
       "      <td>0</td>\n",
       "      <td>0</td>\n",
       "      <td>0</td>\n",
       "      <td>0</td>\n",
       "      <td>0</td>\n",
       "      <td>0</td>\n",
       "    </tr>\n",
       "    <tr>\n",
       "      <th>5957</th>\n",
       "      <td>33</td>\n",
       "      <td>-99</td>\n",
       "      <td>536</td>\n",
       "      <td>4</td>\n",
       "      <td>100</td>\n",
       "      <td>69</td>\n",
       "      <td>301</td>\n",
       "      <td>127</td>\n",
       "      <td>60</td>\n",
       "      <td>0</td>\n",
       "      <td>1</td>\n",
       "      <td>0</td>\n",
       "      <td>0</td>\n",
       "      <td>0</td>\n",
       "      <td>0</td>\n",
       "      <td>0</td>\n",
       "      <td>0</td>\n",
       "      <td>0</td>\n",
       "      <td>0</td>\n",
       "    </tr>\n",
       "    <tr>\n",
       "      <th>5958</th>\n",
       "      <td>41</td>\n",
       "      <td>97</td>\n",
       "      <td>215</td>\n",
       "      <td>4</td>\n",
       "      <td>600</td>\n",
       "      <td>69</td>\n",
       "      <td>301</td>\n",
       "      <td>127</td>\n",
       "      <td>60</td>\n",
       "      <td>0</td>\n",
       "      <td>0</td>\n",
       "      <td>0</td>\n",
       "      <td>1</td>\n",
       "      <td>0</td>\n",
       "      <td>0</td>\n",
       "      <td>0</td>\n",
       "      <td>0</td>\n",
       "      <td>0</td>\n",
       "      <td>0</td>\n",
       "    </tr>\n",
       "    <tr>\n",
       "      <th>5959</th>\n",
       "      <td>15</td>\n",
       "      <td>90</td>\n",
       "      <td>841</td>\n",
       "      <td>4</td>\n",
       "      <td>100</td>\n",
       "      <td>69</td>\n",
       "      <td>207</td>\n",
       "      <td>40</td>\n",
       "      <td>60</td>\n",
       "      <td>0</td>\n",
       "      <td>0</td>\n",
       "      <td>0</td>\n",
       "      <td>0</td>\n",
       "      <td>0</td>\n",
       "      <td>0</td>\n",
       "      <td>1</td>\n",
       "      <td>0</td>\n",
       "      <td>0</td>\n",
       "      <td>0</td>\n",
       "    </tr>\n",
       "    <tr>\n",
       "      <th>5960</th>\n",
       "      <td>17</td>\n",
       "      <td>100</td>\n",
       "      <td>598</td>\n",
       "      <td>1</td>\n",
       "      <td>200</td>\n",
       "      <td>6</td>\n",
       "      <td>210</td>\n",
       "      <td>72</td>\n",
       "      <td>60</td>\n",
       "      <td>0</td>\n",
       "      <td>0</td>\n",
       "      <td>0</td>\n",
       "      <td>1</td>\n",
       "      <td>0</td>\n",
       "      <td>0</td>\n",
       "      <td>0</td>\n",
       "      <td>0</td>\n",
       "      <td>0</td>\n",
       "      <td>0</td>\n",
       "    </tr>\n",
       "  </tbody>\n",
       "</table>\n",
       "<p>5961 rows × 19 columns</p>\n",
       "</div>"
      ],
      "text/plain": [
       "      Experience  Rating  Place  Profile  Fees  Qual_1  Qual_2  Qual_3  \\\n",
       "0             24     100    296        5   100       8     207      46   \n",
       "1             12      98    856        0   350       5     207       8   \n",
       "2              9     -99    452        3   300      69     224      80   \n",
       "3             12     -99     68        0   250      12       7     127   \n",
       "4             20     100    335        0   250       5     301     127   \n",
       "...          ...     ...    ...      ...   ...     ...     ...     ...   \n",
       "5956          19      98     70        3   300      69     224      32   \n",
       "5957          33     -99    536        4   100      69     301     127   \n",
       "5958          41      97    215        4   600      69     301     127   \n",
       "5959          15      90    841        4   100      69     207      40   \n",
       "5960          17     100    598        1   200       6     210      72   \n",
       "\n",
       "      Qual_4   Bangalore   Chennai   Coimbatore   Delhi   Ernakulam  \\\n",
       "0         60           0         0            0       0           1   \n",
       "1         60           1         0            0       0           0   \n",
       "2         60           1         0            0       0           0   \n",
       "3         58           1         0            0       0           0   \n",
       "4         60           0         1            0       0           0   \n",
       "...      ...         ...       ...          ...     ...         ...   \n",
       "5956      60           1         0            0       0           0   \n",
       "5957      60           0         1            0       0           0   \n",
       "5958      60           0         0            0       1           0   \n",
       "5959      60           0         0            0       0           0   \n",
       "5960      60           0         0            0       1           0   \n",
       "\n",
       "       Hyderabad   Mumbai   Thiruvananthapuram  None  e  \n",
       "0              0        0                    0     0  0  \n",
       "1              0        0                    0     0  0  \n",
       "2              0        0                    0     0  0  \n",
       "3              0        0                    0     0  0  \n",
       "4              0        0                    0     0  0  \n",
       "...          ...      ...                  ...   ... ..  \n",
       "5956           0        0                    0     0  0  \n",
       "5957           0        0                    0     0  0  \n",
       "5958           0        0                    0     0  0  \n",
       "5959           0        1                    0     0  0  \n",
       "5960           0        0                    0     0  0  \n",
       "\n",
       "[5961 rows x 19 columns]"
      ]
     },
     "execution_count": 84,
     "metadata": {},
     "output_type": "execute_result"
    }
   ],
   "source": [
    "train_df"
   ]
  },
  {
   "cell_type": "code",
   "execution_count": 85,
   "id": "6a13076b",
   "metadata": {},
   "outputs": [],
   "source": [
    "x=train_df.drop(['Fees'],axis=1)"
   ]
  },
  {
   "cell_type": "code",
   "execution_count": 86,
   "id": "5906549d",
   "metadata": {},
   "outputs": [],
   "source": [
    "y=train_df['Fees']"
   ]
  },
  {
   "cell_type": "code",
   "execution_count": 87,
   "id": "0c91e12b",
   "metadata": {},
   "outputs": [
    {
     "data": {
      "text/html": [
       "<div>\n",
       "<style scoped>\n",
       "    .dataframe tbody tr th:only-of-type {\n",
       "        vertical-align: middle;\n",
       "    }\n",
       "\n",
       "    .dataframe tbody tr th {\n",
       "        vertical-align: top;\n",
       "    }\n",
       "\n",
       "    .dataframe thead th {\n",
       "        text-align: right;\n",
       "    }\n",
       "</style>\n",
       "<table border=\"1\" class=\"dataframe\">\n",
       "  <thead>\n",
       "    <tr style=\"text-align: right;\">\n",
       "      <th></th>\n",
       "      <th>Experience</th>\n",
       "      <th>Rating</th>\n",
       "      <th>Place</th>\n",
       "      <th>Profile</th>\n",
       "      <th>Qual_1</th>\n",
       "      <th>Qual_2</th>\n",
       "      <th>Qual_3</th>\n",
       "      <th>Qual_4</th>\n",
       "      <th>Bangalore</th>\n",
       "      <th>Chennai</th>\n",
       "      <th>Coimbatore</th>\n",
       "      <th>Delhi</th>\n",
       "      <th>Ernakulam</th>\n",
       "      <th>Hyderabad</th>\n",
       "      <th>Mumbai</th>\n",
       "      <th>Thiruvananthapuram</th>\n",
       "      <th>None</th>\n",
       "      <th>e</th>\n",
       "    </tr>\n",
       "  </thead>\n",
       "  <tbody>\n",
       "    <tr>\n",
       "      <th>0</th>\n",
       "      <td>24</td>\n",
       "      <td>100</td>\n",
       "      <td>296</td>\n",
       "      <td>5</td>\n",
       "      <td>8</td>\n",
       "      <td>207</td>\n",
       "      <td>46</td>\n",
       "      <td>60</td>\n",
       "      <td>0</td>\n",
       "      <td>0</td>\n",
       "      <td>0</td>\n",
       "      <td>0</td>\n",
       "      <td>1</td>\n",
       "      <td>0</td>\n",
       "      <td>0</td>\n",
       "      <td>0</td>\n",
       "      <td>0</td>\n",
       "      <td>0</td>\n",
       "    </tr>\n",
       "    <tr>\n",
       "      <th>1</th>\n",
       "      <td>12</td>\n",
       "      <td>98</td>\n",
       "      <td>856</td>\n",
       "      <td>0</td>\n",
       "      <td>5</td>\n",
       "      <td>207</td>\n",
       "      <td>8</td>\n",
       "      <td>60</td>\n",
       "      <td>1</td>\n",
       "      <td>0</td>\n",
       "      <td>0</td>\n",
       "      <td>0</td>\n",
       "      <td>0</td>\n",
       "      <td>0</td>\n",
       "      <td>0</td>\n",
       "      <td>0</td>\n",
       "      <td>0</td>\n",
       "      <td>0</td>\n",
       "    </tr>\n",
       "    <tr>\n",
       "      <th>2</th>\n",
       "      <td>9</td>\n",
       "      <td>-99</td>\n",
       "      <td>452</td>\n",
       "      <td>3</td>\n",
       "      <td>69</td>\n",
       "      <td>224</td>\n",
       "      <td>80</td>\n",
       "      <td>60</td>\n",
       "      <td>1</td>\n",
       "      <td>0</td>\n",
       "      <td>0</td>\n",
       "      <td>0</td>\n",
       "      <td>0</td>\n",
       "      <td>0</td>\n",
       "      <td>0</td>\n",
       "      <td>0</td>\n",
       "      <td>0</td>\n",
       "      <td>0</td>\n",
       "    </tr>\n",
       "    <tr>\n",
       "      <th>3</th>\n",
       "      <td>12</td>\n",
       "      <td>-99</td>\n",
       "      <td>68</td>\n",
       "      <td>0</td>\n",
       "      <td>12</td>\n",
       "      <td>7</td>\n",
       "      <td>127</td>\n",
       "      <td>58</td>\n",
       "      <td>1</td>\n",
       "      <td>0</td>\n",
       "      <td>0</td>\n",
       "      <td>0</td>\n",
       "      <td>0</td>\n",
       "      <td>0</td>\n",
       "      <td>0</td>\n",
       "      <td>0</td>\n",
       "      <td>0</td>\n",
       "      <td>0</td>\n",
       "    </tr>\n",
       "    <tr>\n",
       "      <th>4</th>\n",
       "      <td>20</td>\n",
       "      <td>100</td>\n",
       "      <td>335</td>\n",
       "      <td>0</td>\n",
       "      <td>5</td>\n",
       "      <td>301</td>\n",
       "      <td>127</td>\n",
       "      <td>60</td>\n",
       "      <td>0</td>\n",
       "      <td>1</td>\n",
       "      <td>0</td>\n",
       "      <td>0</td>\n",
       "      <td>0</td>\n",
       "      <td>0</td>\n",
       "      <td>0</td>\n",
       "      <td>0</td>\n",
       "      <td>0</td>\n",
       "      <td>0</td>\n",
       "    </tr>\n",
       "    <tr>\n",
       "      <th>...</th>\n",
       "      <td>...</td>\n",
       "      <td>...</td>\n",
       "      <td>...</td>\n",
       "      <td>...</td>\n",
       "      <td>...</td>\n",
       "      <td>...</td>\n",
       "      <td>...</td>\n",
       "      <td>...</td>\n",
       "      <td>...</td>\n",
       "      <td>...</td>\n",
       "      <td>...</td>\n",
       "      <td>...</td>\n",
       "      <td>...</td>\n",
       "      <td>...</td>\n",
       "      <td>...</td>\n",
       "      <td>...</td>\n",
       "      <td>...</td>\n",
       "      <td>...</td>\n",
       "    </tr>\n",
       "    <tr>\n",
       "      <th>5956</th>\n",
       "      <td>19</td>\n",
       "      <td>98</td>\n",
       "      <td>70</td>\n",
       "      <td>3</td>\n",
       "      <td>69</td>\n",
       "      <td>224</td>\n",
       "      <td>32</td>\n",
       "      <td>60</td>\n",
       "      <td>1</td>\n",
       "      <td>0</td>\n",
       "      <td>0</td>\n",
       "      <td>0</td>\n",
       "      <td>0</td>\n",
       "      <td>0</td>\n",
       "      <td>0</td>\n",
       "      <td>0</td>\n",
       "      <td>0</td>\n",
       "      <td>0</td>\n",
       "    </tr>\n",
       "    <tr>\n",
       "      <th>5957</th>\n",
       "      <td>33</td>\n",
       "      <td>-99</td>\n",
       "      <td>536</td>\n",
       "      <td>4</td>\n",
       "      <td>69</td>\n",
       "      <td>301</td>\n",
       "      <td>127</td>\n",
       "      <td>60</td>\n",
       "      <td>0</td>\n",
       "      <td>1</td>\n",
       "      <td>0</td>\n",
       "      <td>0</td>\n",
       "      <td>0</td>\n",
       "      <td>0</td>\n",
       "      <td>0</td>\n",
       "      <td>0</td>\n",
       "      <td>0</td>\n",
       "      <td>0</td>\n",
       "    </tr>\n",
       "    <tr>\n",
       "      <th>5958</th>\n",
       "      <td>41</td>\n",
       "      <td>97</td>\n",
       "      <td>215</td>\n",
       "      <td>4</td>\n",
       "      <td>69</td>\n",
       "      <td>301</td>\n",
       "      <td>127</td>\n",
       "      <td>60</td>\n",
       "      <td>0</td>\n",
       "      <td>0</td>\n",
       "      <td>0</td>\n",
       "      <td>1</td>\n",
       "      <td>0</td>\n",
       "      <td>0</td>\n",
       "      <td>0</td>\n",
       "      <td>0</td>\n",
       "      <td>0</td>\n",
       "      <td>0</td>\n",
       "    </tr>\n",
       "    <tr>\n",
       "      <th>5959</th>\n",
       "      <td>15</td>\n",
       "      <td>90</td>\n",
       "      <td>841</td>\n",
       "      <td>4</td>\n",
       "      <td>69</td>\n",
       "      <td>207</td>\n",
       "      <td>40</td>\n",
       "      <td>60</td>\n",
       "      <td>0</td>\n",
       "      <td>0</td>\n",
       "      <td>0</td>\n",
       "      <td>0</td>\n",
       "      <td>0</td>\n",
       "      <td>0</td>\n",
       "      <td>1</td>\n",
       "      <td>0</td>\n",
       "      <td>0</td>\n",
       "      <td>0</td>\n",
       "    </tr>\n",
       "    <tr>\n",
       "      <th>5960</th>\n",
       "      <td>17</td>\n",
       "      <td>100</td>\n",
       "      <td>598</td>\n",
       "      <td>1</td>\n",
       "      <td>6</td>\n",
       "      <td>210</td>\n",
       "      <td>72</td>\n",
       "      <td>60</td>\n",
       "      <td>0</td>\n",
       "      <td>0</td>\n",
       "      <td>0</td>\n",
       "      <td>1</td>\n",
       "      <td>0</td>\n",
       "      <td>0</td>\n",
       "      <td>0</td>\n",
       "      <td>0</td>\n",
       "      <td>0</td>\n",
       "      <td>0</td>\n",
       "    </tr>\n",
       "  </tbody>\n",
       "</table>\n",
       "<p>5961 rows × 18 columns</p>\n",
       "</div>"
      ],
      "text/plain": [
       "      Experience  Rating  Place  Profile  Qual_1  Qual_2  Qual_3  Qual_4  \\\n",
       "0             24     100    296        5       8     207      46      60   \n",
       "1             12      98    856        0       5     207       8      60   \n",
       "2              9     -99    452        3      69     224      80      60   \n",
       "3             12     -99     68        0      12       7     127      58   \n",
       "4             20     100    335        0       5     301     127      60   \n",
       "...          ...     ...    ...      ...     ...     ...     ...     ...   \n",
       "5956          19      98     70        3      69     224      32      60   \n",
       "5957          33     -99    536        4      69     301     127      60   \n",
       "5958          41      97    215        4      69     301     127      60   \n",
       "5959          15      90    841        4      69     207      40      60   \n",
       "5960          17     100    598        1       6     210      72      60   \n",
       "\n",
       "       Bangalore   Chennai   Coimbatore   Delhi   Ernakulam   Hyderabad  \\\n",
       "0              0         0            0       0           1           0   \n",
       "1              1         0            0       0           0           0   \n",
       "2              1         0            0       0           0           0   \n",
       "3              1         0            0       0           0           0   \n",
       "4              0         1            0       0           0           0   \n",
       "...          ...       ...          ...     ...         ...         ...   \n",
       "5956           1         0            0       0           0           0   \n",
       "5957           0         1            0       0           0           0   \n",
       "5958           0         0            0       1           0           0   \n",
       "5959           0         0            0       0           0           0   \n",
       "5960           0         0            0       1           0           0   \n",
       "\n",
       "       Mumbai   Thiruvananthapuram  None  e  \n",
       "0           0                    0     0  0  \n",
       "1           0                    0     0  0  \n",
       "2           0                    0     0  0  \n",
       "3           0                    0     0  0  \n",
       "4           0                    0     0  0  \n",
       "...       ...                  ...   ... ..  \n",
       "5956        0                    0     0  0  \n",
       "5957        0                    0     0  0  \n",
       "5958        0                    0     0  0  \n",
       "5959        1                    0     0  0  \n",
       "5960        0                    0     0  0  \n",
       "\n",
       "[5961 rows x 18 columns]"
      ]
     },
     "execution_count": 87,
     "metadata": {},
     "output_type": "execute_result"
    }
   ],
   "source": [
    "x"
   ]
  },
  {
   "cell_type": "code",
   "execution_count": 88,
   "id": "a0863a2f",
   "metadata": {},
   "outputs": [
    {
     "data": {
      "text/plain": [
       "0       100\n",
       "1       350\n",
       "2       300\n",
       "3       250\n",
       "4       250\n",
       "       ... \n",
       "5956    300\n",
       "5957    100\n",
       "5958    600\n",
       "5959    100\n",
       "5960    200\n",
       "Name: Fees, Length: 5961, dtype: int64"
      ]
     },
     "execution_count": 88,
     "metadata": {},
     "output_type": "execute_result"
    }
   ],
   "source": [
    "y"
   ]
  },
  {
   "cell_type": "code",
   "execution_count": 89,
   "id": "8040fe54",
   "metadata": {},
   "outputs": [],
   "source": [
    "from sklearn.model_selection import cross_val_score\n",
    "from sklearn.metrics import mean_squared_error\n",
    "def train(model,x,y):\n",
    "    #train the model\n",
    "    model.fit(x,y)\n",
    "    \n",
    "    #predict the training set\n",
    "    pred=model.predict(x)\n",
    "    \n",
    "    #perform Cross validation\n",
    "    cv_score=cross_val_score(model,x,y,scoring='r2',cv=5)\n",
    "   \n",
    "    print('Model Report')\n",
    "    print('MSE :',mean_squared_error(y,pred))\n",
    "    print('RMSE:',np.sqrt(mean_squared_error(y,pred)))\n",
    "    print(\"cv score :\",cv_score)"
   ]
  },
  {
   "cell_type": "code",
   "execution_count": 90,
   "id": "d9c70bdd",
   "metadata": {},
   "outputs": [
    {
     "name": "stdout",
     "output_type": "stream",
     "text": [
      "Model Report\n",
      "MSE : 30307.86030479785\n",
      "RMSE: 174.09152852680066\n",
      "cv score : [0.17194719 0.16252697 0.16736494 0.15064226 0.16500918]\n"
     ]
    },
    {
     "data": {
      "text/plain": [
       "<AxesSubplot:title={'center':'Model Coficient'}>"
      ]
     },
     "execution_count": 90,
     "metadata": {},
     "output_type": "execute_result"
    },
    {
     "data": {
      "image/png": "[encoded data removed]",
      "text/plain": [
       "<Figure size 1584x504 with 1 Axes>"
      ]
     },
     "metadata": {
      "needs_background": "light"
     },
     "output_type": "display_data"
    }
   ],
   "source": [
    "from sklearn.linear_model import LinearRegression,Ridge,Lasso\n",
    "model=LinearRegression()\n",
    "train(model,x,y)\n",
    "coef =pd.Series(model.coef_,x.columns).sort_values()\n",
    "plt.figure(figsize=(22,7))\n",
    "coef.plot(kind='bar',title='Model Coficient')"
   ]
  },
  {
   "cell_type": "code",
   "execution_count": 91,
   "id": "e002c383",
   "metadata": {},
   "outputs": [
    {
     "name": "stdout",
     "output_type": "stream",
     "text": [
      "Model Report\n",
      "MSE : 30308.50719214759\n",
      "RMSE: 174.09338641128096\n",
      "cv score : [0.17196064 0.16253454 0.16734282 0.15064817 0.16499454]\n"
     ]
    },
    {
     "data": {
      "text/plain": [
       "<AxesSubplot:title={'center':'Model Coficient'}>"
      ]
     },
     "execution_count": 91,
     "metadata": {},
     "output_type": "execute_result"
    },
    {
     "data": {
      "image/png": "[encoded data removed]",
      "text/plain": [
       "<Figure size 1584x504 with 1 Axes>"
      ]
     },
     "metadata": {
      "needs_background": "light"
     },
     "output_type": "display_data"
    }
   ],
   "source": [
    "model=Ridge()\n",
    "train(model,x,y)\n",
    "coef =pd.Series(model.coef_,x.columns).sort_values()\n",
    "plt.figure(figsize=(22,7))\n",
    "coef.plot(kind='bar',title='Model Coficient')"
   ]
  },
  {
   "cell_type": "markdown",
   "id": "5b961b9b",
   "metadata": {},
   "source": [
    "#### More Error is showing means difference is more between actual and Predict"
   ]
  },
  {
   "cell_type": "code",
   "execution_count": 92,
   "id": "3c82c0b8",
   "metadata": {},
   "outputs": [],
   "source": [
    "from sklearn.ensemble import RandomForestRegressor\n",
    "RF=RandomForestRegressor()\n",
    "from sklearn.metrics import r2_score\n",
    "from sklearn.model_selection import train_test_split"
   ]
  },
  {
   "cell_type": "code",
   "execution_count": 93,
   "id": "74c581ee",
   "metadata": {},
   "outputs": [],
   "source": [
    "x_train,x_test,y_train,y_test=train_test_split(x,y,test_size=0.25,random_state=0)"
   ]
  },
  {
   "cell_type": "code",
   "execution_count": 94,
   "id": "3b65739b",
   "metadata": {},
   "outputs": [
    {
     "data": {
      "text/plain": [
       "RandomForestRegressor()"
      ]
     },
     "execution_count": 94,
     "metadata": {},
     "output_type": "execute_result"
    }
   ],
   "source": [
    "RF.fit(x,y)"
   ]
  },
  {
   "cell_type": "code",
   "execution_count": 95,
   "id": "130368e9",
   "metadata": {},
   "outputs": [],
   "source": [
    "pred_test=RF.predict(x_test)"
   ]
  },
  {
   "cell_type": "code",
   "execution_count": 96,
   "id": "21e00998",
   "metadata": {},
   "outputs": [],
   "source": [
    "pred_train=RF.predict(x_train)"
   ]
  },
  {
   "cell_type": "code",
   "execution_count": 97,
   "id": "2b1cf25f",
   "metadata": {},
   "outputs": [
    {
     "name": "stdout",
     "output_type": "stream",
     "text": [
      "0.8899414161369263\n",
      "R2_score: 88.99414161369263\n",
      "cross_val_score 18.87554818744903\n"
     ]
    }
   ],
   "source": [
    "pred_test\n",
    "print(r2_score(y_test,pred_test))\n",
    "rfs=r2_score(y_test,pred_test)\n",
    "print('R2_score:',rfs*100)\n",
    "rfscore=cross_val_score(RF,x,y,cv=5,scoring='r2')\n",
    "rfc=rfscore.mean()\n",
    "print('cross_val_score',rfc*100)"
   ]
  },
  {
   "cell_type": "code",
   "execution_count": 98,
   "id": "c6f8dd41",
   "metadata": {},
   "outputs": [
    {
     "name": "stdout",
     "output_type": "stream",
     "text": [
      "RMSE loss in train : 64.25097289875148\n"
     ]
    }
   ],
   "source": [
    "clf=RandomForestRegressor(random_state=0,criterion='mse')\n",
    "clf.fit(x,y)\n",
    "y_pred=clf.predict(x)\n",
    "print('RMSE loss in train :',np.sqrt(mean_squared_error(y,y_pred)))\n"
   ]
  },
  {
   "cell_type": "code",
   "execution_count": 99,
   "id": "f02f20bd",
   "metadata": {},
   "outputs": [
    {
     "data": {
      "text/plain": [
       "0.8867266539693297"
      ]
     },
     "execution_count": 99,
     "metadata": {},
     "output_type": "execute_result"
    }
   ],
   "source": [
    "clf.score(x,y)"
   ]
  },
  {
   "cell_type": "code",
   "execution_count": 100,
   "id": "a76f5e09",
   "metadata": {},
   "outputs": [
    {
     "data": {
      "text/plain": [
       "1398    300\n",
       "4310    500\n",
       "2455    250\n",
       "2285    800\n",
       "3891    100\n",
       "       ... \n",
       "5331    500\n",
       "88      250\n",
       "1715    300\n",
       "2026    400\n",
       "470     400\n",
       "Name: Fees, Length: 1491, dtype: int64"
      ]
     },
     "execution_count": 100,
     "metadata": {},
     "output_type": "execute_result"
    }
   ],
   "source": [
    "y_test"
   ]
  },
  {
   "cell_type": "code",
   "execution_count": 101,
   "id": "e0cd6703",
   "metadata": {},
   "outputs": [
    {
     "name": "stdout",
     "output_type": "stream",
     "text": [
      "RMSE loss in train : 65.06194557132268\n",
      "RMSE loss in validation : 171.8130216894886\n"
     ]
    }
   ],
   "source": [
    "clf.fit(x_train,y_train)\n",
    "y_pred=clf.predict(x_train)\n",
    "print('RMSE loss in train :',np.sqrt(mean_squared_error(y_train,y_pred)))\n",
    "y_pred=clf.predict(x_test)\n",
    "print('RMSE loss in validation :',np.sqrt(mean_squared_error(y_test,y_pred)))"
   ]
  },
  {
   "cell_type": "code",
   "execution_count": 111,
   "id": "7225640f",
   "metadata": {},
   "outputs": [
    {
     "name": "stdout",
     "output_type": "stream",
     "text": [
      "RMSE loss in train : 11.198892748488529\n",
      "0.8899414161369263\n",
      "R2_score: 88.99414161369263\n",
      "cross_val_score 19.106147049069826\n"
     ]
    }
   ],
   "source": [
    "from sklearn.ensemble import BaggingRegressor\n",
    "from sklearn.tree import ExtraTreeRegressor\n",
    "ET=ExtraTreeRegressor(random_state=0,criterion='mse')\n",
    "ET.fit(x,y)\n",
    "y_pred=ET.predict(x)\n",
    "print('RMSE loss in train :',np.sqrt(mean_squared_error(y,y_pred)))\n",
    "print(r2_score(y_test,pred_test))\n",
    "rfs=r2_score(y_test,pred_test)\n",
    "print('R2_score:',rfs*100)\n",
    "rfscore=cross_val_score(RF,x,y,cv=5,scoring='r2')\n",
    "rfc=rfscore.mean()\n",
    "print('cross_val_score',rfc*100)"
   ]
  },
  {
   "cell_type": "markdown",
   "id": "08f8c3ab",
   "metadata": {},
   "source": [
    "ET.score(x,y)"
   ]
  },
  {
   "cell_type": "code",
   "execution_count": 104,
   "id": "3f5c9e30",
   "metadata": {},
   "outputs": [
    {
     "name": "stdout",
     "output_type": "stream",
     "text": [
      "RMSE loss in train : 75.65620571938976\n"
     ]
    }
   ],
   "source": [
    "BG=BaggingRegressor(n_estimators=10, random_state=0)\n",
    "BG.fit(x,y)\n",
    "y_pred=BG.predict(x)\n",
    "print('RMSE loss in train :',np.sqrt(mean_squared_error(y,y_pred)))"
   ]
  },
  {
   "cell_type": "code",
   "execution_count": 105,
   "id": "da2fd773",
   "metadata": {},
   "outputs": [
    {
     "data": {
      "text/plain": [
       "0.8429429532134127"
      ]
     },
     "execution_count": 105,
     "metadata": {},
     "output_type": "execute_result"
    }
   ],
   "source": [
    "BG.score(x,y)"
   ]
  },
  {
   "cell_type": "markdown",
   "id": "a59ed4d3",
   "metadata": {},
   "source": [
    "##### from Extra Tress Regressor the RMSE is 11.19 least among all error and score is also good so from above train ExtratreeRegressor is best model"
   ]
  },
  {
   "cell_type": "code",
   "execution_count": null,
   "id": "a89e9246",
   "metadata": {},
   "outputs": [],
   "source": []
  }
 ],
 "metadata": {
  "kernelspec": {
   "display_name": "Python 3",
   "language": "python",
   "name": "python3"
  },
  "language_info": {
   "codemirror_mode": {
    "name": "ipython",
    "version": 3
   },
   "file_extension": ".py",
   "mimetype": "text/x-python",
   "name": "python",
   "nbconvert_exporter": "python",
   "pygments_lexer": "ipython3",
   "version": "3.8.8"
  }
 },
 "nbformat": 4,
 "nbformat_minor": 5
}
